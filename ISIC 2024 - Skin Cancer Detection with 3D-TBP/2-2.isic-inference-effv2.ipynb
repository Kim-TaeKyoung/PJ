{
 "cells": [
  {
   "cell_type": "markdown",
   "id": "151be40c",
   "metadata": {
    "papermill": {
     "duration": 0.006639,
     "end_time": "2024-08-27T01:01:46.850967",
     "exception": false,
     "start_time": "2024-08-27T01:01:46.844328",
     "status": "completed"
    },
    "tags": []
   },
   "source": [
    "# <span><h1 style = \"font-family: garamond; font-size: 40px; font-style: normal; letter-spcaing: 3px; background-color: #f6f5f5; color :#fe346e; border-radius: 100px 100px; text-align:center\">Import Required Libraries 📚</h1></span>"
   ]
  },
  {
   "cell_type": "code",
   "execution_count": 1,
   "id": "eb5de3e3",
   "metadata": {
    "execution": {
     "iopub.execute_input": "2024-08-27T01:01:46.866673Z",
     "iopub.status.busy": "2024-08-27T01:01:46.865827Z",
     "iopub.status.idle": "2024-08-27T01:01:46.877901Z",
     "shell.execute_reply": "2024-08-27T01:01:46.877012Z"
    },
    "papermill": {
     "duration": 0.022136,
     "end_time": "2024-08-27T01:01:46.879783",
     "exception": false,
     "start_time": "2024-08-27T01:01:46.857647",
     "status": "completed"
    },
    "tags": []
   },
   "outputs": [
    {
     "name": "stdout",
     "output_type": "stream",
     "text": [
      "Writing main.py\n"
     ]
    }
   ],
   "source": [
    "%%writefile main.py\n",
    "import os\n",
    "import gc\n",
    "import cv2\n",
    "import math\n",
    "import copy\n",
    "import time\n",
    "import random\n",
    "import glob\n",
    "from matplotlib import pyplot as plt\n",
    "\n",
    "import h5py\n",
    "from PIL import Image\n",
    "from io import BytesIO\n",
    "\n",
    "# For data manipulation\n",
    "import numpy as np\n",
    "import pandas as pd\n",
    "\n",
    "# Pytorch Imports\n",
    "import torch\n",
    "import torch.nn as nn\n",
    "import torch.optim as optim\n",
    "import torch.nn.functional as F\n",
    "from torch.optim import lr_scheduler\n",
    "from torch.utils.data import Dataset, DataLoader\n",
    "from torch.cuda import amp\n",
    "import torchvision\n",
    "\n",
    "# Utils\n",
    "import joblib\n",
    "from tqdm import tqdm\n",
    "from collections import defaultdict\n",
    "\n",
    "# Sklearn Imports\n",
    "from sklearn.preprocessing import LabelEncoder\n",
    "from sklearn.model_selection import StratifiedKFold\n",
    "\n",
    "# For Image Models\n",
    "import timm\n",
    "\n",
    "# Albumentations for augmentations\n",
    "import albumentations as A\n",
    "from albumentations.pytorch import ToTensorV2\n",
    "\n",
    "# For colored terminal text\n",
    "from colorama import Fore, Back, Style\n",
    "b_ = Fore.BLUE\n",
    "sr_ = Style.RESET_ALL\n",
    "\n",
    "import warnings\n",
    "warnings.filterwarnings(\"ignore\")\n",
    "\n",
    "# For descriptive error messages\n",
    "os.environ['CUDA_LAUNCH_BLOCKING'] = \"1\""
   ]
  },
  {
   "cell_type": "code",
   "execution_count": 2,
   "id": "fbd1cb54",
   "metadata": {
    "execution": {
     "iopub.execute_input": "2024-08-27T01:01:46.895159Z",
     "iopub.status.busy": "2024-08-27T01:01:46.894844Z",
     "iopub.status.idle": "2024-08-27T01:01:46.900152Z",
     "shell.execute_reply": "2024-08-27T01:01:46.899207Z"
    },
    "papermill": {
     "duration": 0.015249,
     "end_time": "2024-08-27T01:01:46.902140",
     "exception": false,
     "start_time": "2024-08-27T01:01:46.886891",
     "status": "completed"
    },
    "tags": []
   },
   "outputs": [
    {
     "name": "stdout",
     "output_type": "stream",
     "text": [
      "Appending to main.py\n"
     ]
    }
   ],
   "source": [
    "%%writefile -a main.py\n",
    "import sys\n",
    "BEST_WEIGHT = sys.argv[1]\n",
    "print(f\"BEST_WEIGHT = {BEST_WEIGHT}\")"
   ]
  },
  {
   "cell_type": "markdown",
   "id": "985baa58",
   "metadata": {
    "papermill": {
     "duration": 0.006795,
     "end_time": "2024-08-27T01:01:46.915938",
     "exception": false,
     "start_time": "2024-08-27T01:01:46.909143",
     "status": "completed"
    },
    "tags": []
   },
   "source": [
    "# <span><h1 style = \"font-family: garamond; font-size: 40px; font-style: normal; letter-spcaing: 3px; background-color: #f6f5f5; color :#fe346e; border-radius: 100px 100px; text-align:center\">Training Configuration ⚙️</h1></span>"
   ]
  },
  {
   "cell_type": "code",
   "execution_count": 3,
   "id": "a60c7147",
   "metadata": {
    "execution": {
     "iopub.execute_input": "2024-08-27T01:01:46.931214Z",
     "iopub.status.busy": "2024-08-27T01:01:46.930864Z",
     "iopub.status.idle": "2024-08-27T01:01:46.936186Z",
     "shell.execute_reply": "2024-08-27T01:01:46.935414Z"
    },
    "papermill": {
     "duration": 0.015219,
     "end_time": "2024-08-27T01:01:46.938107",
     "exception": false,
     "start_time": "2024-08-27T01:01:46.922888",
     "status": "completed"
    },
    "tags": []
   },
   "outputs": [
    {
     "name": "stdout",
     "output_type": "stream",
     "text": [
      "Appending to main.py\n"
     ]
    }
   ],
   "source": [
    "%%writefile -a main.py\n",
    "CONFIG = {\n",
    "    \"seed\": 42,\n",
    "    \"img_size\": 224,\n",
    "    \"model_name\": \"tf_efficientnetv2_s\", \n",
    "    \"valid_batch_size\": 32,\n",
    "    \"device\": torch.device(\"cuda:0\" if torch.cuda.is_available() else \"cpu\"),\n",
    "}"
   ]
  },
  {
   "cell_type": "markdown",
   "id": "a17a88ce",
   "metadata": {
    "papermill": {
     "duration": 0.007888,
     "end_time": "2024-08-27T01:01:46.953090",
     "exception": false,
     "start_time": "2024-08-27T01:01:46.945202",
     "status": "completed"
    },
    "tags": []
   },
   "source": [
    "# <span><h1 style = \"font-family: garamond; font-size: 40px; font-style: normal; letter-spcaing: 3px; background-color: #f6f5f5; color :#fe346e; border-radius: 100px 100px; text-align:center\">Set Seed for Reproducibility</h1></span>"
   ]
  },
  {
   "cell_type": "code",
   "execution_count": 4,
   "id": "f7ff6b62",
   "metadata": {
    "execution": {
     "iopub.execute_input": "2024-08-27T01:01:46.968600Z",
     "iopub.status.busy": "2024-08-27T01:01:46.968241Z",
     "iopub.status.idle": "2024-08-27T01:01:46.974036Z",
     "shell.execute_reply": "2024-08-27T01:01:46.973201Z"
    },
    "papermill": {
     "duration": 0.016,
     "end_time": "2024-08-27T01:01:46.975995",
     "exception": false,
     "start_time": "2024-08-27T01:01:46.959995",
     "status": "completed"
    },
    "tags": []
   },
   "outputs": [
    {
     "name": "stdout",
     "output_type": "stream",
     "text": [
      "Appending to main.py\n"
     ]
    }
   ],
   "source": [
    "%%writefile -a main.py\n",
    "def set_seed(seed=42):\n",
    "    np.random.seed(seed)\n",
    "    torch.manual_seed(seed)\n",
    "    torch.cuda.manual_seed(seed)\n",
    "    torch.backends.cudnn.deterministic = True\n",
    "    torch.backends.cudnn.benchmark = False\n",
    "    os.environ['PYTHONHASHSEED'] = str(seed)\n",
    "    \n",
    "set_seed(CONFIG['seed'])"
   ]
  },
  {
   "cell_type": "code",
   "execution_count": 5,
   "id": "57d36a6b",
   "metadata": {
    "execution": {
     "iopub.execute_input": "2024-08-27T01:01:46.991458Z",
     "iopub.status.busy": "2024-08-27T01:01:46.990905Z",
     "iopub.status.idle": "2024-08-27T01:01:46.996111Z",
     "shell.execute_reply": "2024-08-27T01:01:46.995351Z"
    },
    "papermill": {
     "duration": 0.015069,
     "end_time": "2024-08-27T01:01:46.998127",
     "exception": false,
     "start_time": "2024-08-27T01:01:46.983058",
     "status": "completed"
    },
    "tags": []
   },
   "outputs": [
    {
     "name": "stdout",
     "output_type": "stream",
     "text": [
      "Appending to main.py\n"
     ]
    }
   ],
   "source": [
    "%%writefile -a main.py\n",
    "ROOT_DIR = \"/kaggle/input/isic-2024-challenge\"\n",
    "TEST_CSV = f'{ROOT_DIR}/test-metadata.csv'\n",
    "TEST_HDF = f'{ROOT_DIR}/test-image.hdf5'\n",
    "SAMPLE = f'{ROOT_DIR}/sample_submission.csv'\n",
    "\n",
    "# BEST_WEIGHT = \"/kaggle/input/efficientnet-weight/effnetv2_AUROC0.5184_Loss0.2719_epoch35.bin\""
   ]
  },
  {
   "cell_type": "markdown",
   "id": "6f5de552",
   "metadata": {
    "papermill": {
     "duration": 0.007415,
     "end_time": "2024-08-27T01:01:47.012722",
     "exception": false,
     "start_time": "2024-08-27T01:01:47.005307",
     "status": "completed"
    },
    "tags": []
   },
   "source": [
    "# <h1 style = \"font-family: garamond; font-size: 40px; font-style: normal; letter-spcaing: 3px; background-color: #f6f5f5; color :#fe346e; border-radius: 100px 100px; text-align:center\">Read the Data 📖</h1>"
   ]
  },
  {
   "cell_type": "code",
   "execution_count": 6,
   "id": "28beafdb",
   "metadata": {
    "execution": {
     "iopub.execute_input": "2024-08-27T01:01:47.028762Z",
     "iopub.status.busy": "2024-08-27T01:01:47.028403Z",
     "iopub.status.idle": "2024-08-27T01:01:47.033780Z",
     "shell.execute_reply": "2024-08-27T01:01:47.032986Z"
    },
    "papermill": {
     "duration": 0.016011,
     "end_time": "2024-08-27T01:01:47.035891",
     "exception": false,
     "start_time": "2024-08-27T01:01:47.019880",
     "status": "completed"
    },
    "tags": []
   },
   "outputs": [
    {
     "name": "stdout",
     "output_type": "stream",
     "text": [
      "Appending to main.py\n"
     ]
    }
   ],
   "source": [
    "%%writefile -a main.py\n",
    "df = pd.read_csv(TEST_CSV)\n",
    "df['target'] = 0 # dummy\n",
    "df"
   ]
  },
  {
   "cell_type": "code",
   "execution_count": 7,
   "id": "a8543770",
   "metadata": {
    "execution": {
     "iopub.execute_input": "2024-08-27T01:01:47.052099Z",
     "iopub.status.busy": "2024-08-27T01:01:47.051354Z",
     "iopub.status.idle": "2024-08-27T01:01:47.056518Z",
     "shell.execute_reply": "2024-08-27T01:01:47.055655Z"
    },
    "papermill": {
     "duration": 0.015303,
     "end_time": "2024-08-27T01:01:47.058631",
     "exception": false,
     "start_time": "2024-08-27T01:01:47.043328",
     "status": "completed"
    },
    "tags": []
   },
   "outputs": [
    {
     "name": "stdout",
     "output_type": "stream",
     "text": [
      "Appending to main.py\n"
     ]
    }
   ],
   "source": [
    "%%writefile -a main.py\n",
    "df_sub = pd.read_csv(SAMPLE)\n",
    "df_sub"
   ]
  },
  {
   "cell_type": "markdown",
   "id": "433e2bf5",
   "metadata": {
    "papermill": {
     "duration": 0.007091,
     "end_time": "2024-08-27T01:01:47.073117",
     "exception": false,
     "start_time": "2024-08-27T01:01:47.066026",
     "status": "completed"
    },
    "tags": []
   },
   "source": [
    "# <span><h1 style = \"font-family: garamond; font-size: 40px; font-style: normal; letter-spcaing: 3px; background-color: #f6f5f5; color :#fe346e; border-radius: 100px 100px; text-align:center\">Dataset Class</h1></span>"
   ]
  },
  {
   "cell_type": "code",
   "execution_count": 8,
   "id": "4b3741cc",
   "metadata": {
    "execution": {
     "iopub.execute_input": "2024-08-27T01:01:47.089298Z",
     "iopub.status.busy": "2024-08-27T01:01:47.088773Z",
     "iopub.status.idle": "2024-08-27T01:01:47.094358Z",
     "shell.execute_reply": "2024-08-27T01:01:47.093538Z"
    },
    "papermill": {
     "duration": 0.015938,
     "end_time": "2024-08-27T01:01:47.096427",
     "exception": false,
     "start_time": "2024-08-27T01:01:47.080489",
     "status": "completed"
    },
    "tags": []
   },
   "outputs": [
    {
     "name": "stdout",
     "output_type": "stream",
     "text": [
      "Appending to main.py\n"
     ]
    }
   ],
   "source": [
    "%%writefile -a main.py\n",
    "class ISICDataset(Dataset):\n",
    "    def __init__(self, df, file_hdf, transforms=None):\n",
    "        self.df = df\n",
    "        self.fp_hdf = h5py.File(file_hdf, mode=\"r\")\n",
    "        self.isic_ids = df['isic_id'].values\n",
    "        self.targets = df['target'].values\n",
    "        self.transforms = transforms\n",
    "        \n",
    "    def __len__(self):\n",
    "        return len(self.isic_ids)\n",
    "    \n",
    "    def __getitem__(self, index):\n",
    "        isic_id = self.isic_ids[index]\n",
    "        img = np.array( Image.open(BytesIO(self.fp_hdf[isic_id][()])) )\n",
    "        target = self.targets[index]\n",
    "        \n",
    "        if self.transforms:\n",
    "            img = self.transforms(image=img)[\"image\"]\n",
    "            \n",
    "        return {\n",
    "            'image': img,\n",
    "            'target': target,\n",
    "        }"
   ]
  },
  {
   "cell_type": "markdown",
   "id": "e060ba20",
   "metadata": {
    "papermill": {
     "duration": 0.007112,
     "end_time": "2024-08-27T01:01:47.111132",
     "exception": false,
     "start_time": "2024-08-27T01:01:47.104020",
     "status": "completed"
    },
    "tags": []
   },
   "source": [
    "# <span><h1 style = \"font-family: garamond; font-size: 40px; font-style: normal; letter-spcaing: 3px; background-color: #f6f5f5; color :#fe346e; border-radius: 100px 100px; text-align:center\">Augmentations</h1></span>"
   ]
  },
  {
   "cell_type": "code",
   "execution_count": 9,
   "id": "46a85736",
   "metadata": {
    "execution": {
     "iopub.execute_input": "2024-08-27T01:01:47.128609Z",
     "iopub.status.busy": "2024-08-27T01:01:47.128019Z",
     "iopub.status.idle": "2024-08-27T01:01:47.134258Z",
     "shell.execute_reply": "2024-08-27T01:01:47.133268Z"
    },
    "papermill": {
     "duration": 0.017962,
     "end_time": "2024-08-27T01:01:47.136659",
     "exception": false,
     "start_time": "2024-08-27T01:01:47.118697",
     "status": "completed"
    },
    "tags": []
   },
   "outputs": [
    {
     "name": "stdout",
     "output_type": "stream",
     "text": [
      "Appending to main.py\n"
     ]
    }
   ],
   "source": [
    "%%writefile -a main.py\n",
    "data_transforms = {\n",
    "    \"valid\": A.Compose([\n",
    "        A.Resize(CONFIG['img_size'], CONFIG['img_size']),\n",
    "        A.Normalize(\n",
    "                mean=[0.485, 0.456, 0.406], \n",
    "                std=[0.229, 0.224, 0.225], \n",
    "                max_pixel_value=255.0, \n",
    "                p=1.0\n",
    "            ),\n",
    "        ToTensorV2()], p=1.)\n",
    "}"
   ]
  },
  {
   "cell_type": "code",
   "execution_count": 10,
   "id": "00736e39",
   "metadata": {
    "execution": {
     "iopub.execute_input": "2024-08-27T01:01:47.155063Z",
     "iopub.status.busy": "2024-08-27T01:01:47.154704Z",
     "iopub.status.idle": "2024-08-27T01:01:47.161347Z",
     "shell.execute_reply": "2024-08-27T01:01:47.160419Z"
    },
    "papermill": {
     "duration": 0.018767,
     "end_time": "2024-08-27T01:01:47.164036",
     "exception": false,
     "start_time": "2024-08-27T01:01:47.145269",
     "status": "completed"
    },
    "tags": []
   },
   "outputs": [
    {
     "name": "stdout",
     "output_type": "stream",
     "text": [
      "Appending to main.py\n"
     ]
    }
   ],
   "source": [
    "%%writefile -a main.py\n",
    "class GeM(nn.Module):\n",
    "    def __init__(self, p=3, eps=1e-6, p_clamp_min=1.0, p_clamp_max=6.0, dynamic_p=False):\n",
    "        super(GeM, self).__init__()\n",
    "        self.p = nn.Parameter(torch.ones(1) * p)\n",
    "        self.eps = eps\n",
    "        self.p_clamp_min = p_clamp_min\n",
    "        self.p_clamp_max = p_clamp_max\n",
    "        self.dynamic_p = dynamic_p\n",
    "        \n",
    "        if dynamic_p:\n",
    "            self.p_layer = nn.Sequential(\n",
    "                nn.Conv2d(1, 1, kernel_size=1),\n",
    "                nn.Sigmoid()\n",
    "            )\n",
    "    \n",
    "    def forward(self, x):\n",
    "        if self.dynamic_p:\n",
    "            p = self.p_layer(x.mean(dim=(2, 3), keepdim=True))\n",
    "            return self.gem(x, p=p*self.p_clamp_max, eps=self.eps)\n",
    "        else:\n",
    "            return self.gem(x, p=self.p.clamp(min=self.p_clamp_min, max=self.p_clamp_max), eps=self.eps)\n",
    "        \n",
    "    def gem(self, x, p=3, eps=1e-6):\n",
    "        return F.avg_pool2d(x.clamp(min=eps).pow(p), (x.size(-2), x.size(-1))).pow(1./p)\n",
    "        \n",
    "    def __repr__(self):\n",
    "        return self.__class__.__name__ + \\\n",
    "                '(' + 'p=' + '{:.4f}'.format(self.p.data.tolist()[0]) + \\\n",
    "                ', ' + 'eps=' + str(self.eps) + ')'"
   ]
  },
  {
   "cell_type": "markdown",
   "id": "74e12f2e",
   "metadata": {
    "papermill": {
     "duration": 0.008617,
     "end_time": "2024-08-27T01:01:47.182072",
     "exception": false,
     "start_time": "2024-08-27T01:01:47.173455",
     "status": "completed"
    },
    "tags": []
   },
   "source": [
    "# <span><h1 style = \"font-family: garamond; font-size: 40px; font-style: normal; letter-spcaing: 3px; background-color: #f6f5f5; color :#fe346e; border-radius: 100px 100px; text-align:center\">Create Model</h1></span>"
   ]
  },
  {
   "cell_type": "code",
   "execution_count": 11,
   "id": "4a25ad78",
   "metadata": {
    "execution": {
     "iopub.execute_input": "2024-08-27T01:01:47.201293Z",
     "iopub.status.busy": "2024-08-27T01:01:47.200925Z",
     "iopub.status.idle": "2024-08-27T01:01:47.207312Z",
     "shell.execute_reply": "2024-08-27T01:01:47.206403Z"
    },
    "papermill": {
     "duration": 0.018705,
     "end_time": "2024-08-27T01:01:47.209626",
     "exception": false,
     "start_time": "2024-08-27T01:01:47.190921",
     "status": "completed"
    },
    "tags": []
   },
   "outputs": [
    {
     "name": "stdout",
     "output_type": "stream",
     "text": [
      "Appending to main.py\n"
     ]
    }
   ],
   "source": [
    "%%writefile -a main.py\n",
    "class ISICModel(nn.Module):\n",
    "    def __init__(self, model_name, num_classes=1, pretrained=True):\n",
    "        super(ISICModel, self).__init__()\n",
    "        self.model = timm.create_model(model_name, pretrained=pretrained)\n",
    "\n",
    "        in_features = self.model.classifier.in_features\n",
    "        self.model.classifier = nn.Identity()\n",
    "        self.model.global_pool = nn.Identity()\n",
    "        self.pooling = GeM()\n",
    "        self.linear = nn.Linear(in_features, num_classes)\n",
    "        self.sigmoid = nn.Sigmoid()\n",
    "\n",
    "    def forward(self, images):\n",
    "        features = self.model(images)\n",
    "        pooled_features = self.pooling(features).flatten(1)\n",
    "        output = self.sigmoid(self.linear(pooled_features))\n",
    "        return output\n",
    "    \n",
    "model = ISICModel(CONFIG['model_name'], pretrained=False)\n",
    "model.load_state_dict( torch.load(BEST_WEIGHT) )\n",
    "model.to(CONFIG['device']);"
   ]
  },
  {
   "cell_type": "markdown",
   "id": "2c5cc71c",
   "metadata": {
    "papermill": {
     "duration": 0.008748,
     "end_time": "2024-08-27T01:01:47.227446",
     "exception": false,
     "start_time": "2024-08-27T01:01:47.218698",
     "status": "completed"
    },
    "tags": []
   },
   "source": [
    "<span style=\"color: #000508; font-family: Segoe UI; font-size: 1.5em; font-weight: 300;\">Prepare Dataloaders</span>"
   ]
  },
  {
   "cell_type": "code",
   "execution_count": 12,
   "id": "63857f2c",
   "metadata": {
    "execution": {
     "iopub.execute_input": "2024-08-27T01:01:47.248265Z",
     "iopub.status.busy": "2024-08-27T01:01:47.247306Z",
     "iopub.status.idle": "2024-08-27T01:01:47.253187Z",
     "shell.execute_reply": "2024-08-27T01:01:47.252336Z"
    },
    "papermill": {
     "duration": 0.018256,
     "end_time": "2024-08-27T01:01:47.255209",
     "exception": false,
     "start_time": "2024-08-27T01:01:47.236953",
     "status": "completed"
    },
    "tags": []
   },
   "outputs": [
    {
     "name": "stdout",
     "output_type": "stream",
     "text": [
      "Appending to main.py\n"
     ]
    }
   ],
   "source": [
    "%%writefile -a main.py\n",
    "test_dataset = ISICDataset(df, TEST_HDF, transforms=data_transforms[\"valid\"])\n",
    "test_loader = DataLoader(test_dataset, batch_size=CONFIG['valid_batch_size'], \n",
    "                          num_workers=2, shuffle=False, pin_memory=True)"
   ]
  },
  {
   "cell_type": "markdown",
   "id": "5dbb6070",
   "metadata": {
    "papermill": {
     "duration": 0.007411,
     "end_time": "2024-08-27T01:01:47.270488",
     "exception": false,
     "start_time": "2024-08-27T01:01:47.263077",
     "status": "completed"
    },
    "tags": []
   },
   "source": [
    "<span style=\"color: #000508; font-family: Segoe UI; font-size: 1.5em; font-weight: 300;\">Start Inference</span>"
   ]
  },
  {
   "cell_type": "code",
   "execution_count": 13,
   "id": "240c5924",
   "metadata": {
    "execution": {
     "iopub.execute_input": "2024-08-27T01:01:47.287453Z",
     "iopub.status.busy": "2024-08-27T01:01:47.286859Z",
     "iopub.status.idle": "2024-08-27T01:01:47.292677Z",
     "shell.execute_reply": "2024-08-27T01:01:47.291822Z"
    },
    "papermill": {
     "duration": 0.016642,
     "end_time": "2024-08-27T01:01:47.294764",
     "exception": false,
     "start_time": "2024-08-27T01:01:47.278122",
     "status": "completed"
    },
    "tags": []
   },
   "outputs": [
    {
     "name": "stdout",
     "output_type": "stream",
     "text": [
      "Appending to main.py\n"
     ]
    }
   ],
   "source": [
    "%%writefile -a main.py\n",
    "preds = []\n",
    "with torch.no_grad():\n",
    "    bar = tqdm(enumerate(test_loader), total=len(test_loader))\n",
    "    for step, data in bar:        \n",
    "        images = data['image'].to(CONFIG[\"device\"], dtype=torch.float)        \n",
    "        batch_size = images.size(0)\n",
    "        outputs = model(images)\n",
    "        preds.append( outputs.detach().cpu().numpy() )\n",
    "preds = np.concatenate(preds).flatten()"
   ]
  },
  {
   "cell_type": "code",
   "execution_count": 14,
   "id": "22fad57f",
   "metadata": {
    "execution": {
     "iopub.execute_input": "2024-08-27T01:01:47.311845Z",
     "iopub.status.busy": "2024-08-27T01:01:47.311084Z",
     "iopub.status.idle": "2024-08-27T01:01:47.316455Z",
     "shell.execute_reply": "2024-08-27T01:01:47.315586Z"
    },
    "papermill": {
     "duration": 0.016322,
     "end_time": "2024-08-27T01:01:47.318859",
     "exception": false,
     "start_time": "2024-08-27T01:01:47.302537",
     "status": "completed"
    },
    "tags": []
   },
   "outputs": [
    {
     "name": "stdout",
     "output_type": "stream",
     "text": [
      "Appending to main.py\n"
     ]
    }
   ],
   "source": [
    "%%writefile -a main.py\n",
    "df_sub[\"target\"] = preds\n",
    "df_sub.to_csv(\"submission.csv\", index=False)"
   ]
  },
  {
   "cell_type": "markdown",
   "id": "02366e1a",
   "metadata": {
    "papermill": {
     "duration": 0.007521,
     "end_time": "2024-08-27T01:01:47.334216",
     "exception": false,
     "start_time": "2024-08-27T01:01:47.326695",
     "status": "completed"
    },
    "tags": []
   },
   "source": [
    "# Test"
   ]
  },
  {
   "cell_type": "code",
   "execution_count": 15,
   "id": "d35e962e",
   "metadata": {
    "execution": {
     "iopub.execute_input": "2024-08-27T01:01:47.351129Z",
     "iopub.status.busy": "2024-08-27T01:01:47.350832Z",
     "iopub.status.idle": "2024-08-27T01:01:47.354668Z",
     "shell.execute_reply": "2024-08-27T01:01:47.353869Z"
    },
    "papermill": {
     "duration": 0.014577,
     "end_time": "2024-08-27T01:01:47.356564",
     "exception": false,
     "start_time": "2024-08-27T01:01:47.341987",
     "status": "completed"
    },
    "tags": []
   },
   "outputs": [],
   "source": [
    "# !python main.py /kaggle/input/efficientnet-weight/effnetv2_AUROC0.5184_Loss0.2719_epoch35.bin"
   ]
  },
  {
   "cell_type": "code",
   "execution_count": 16,
   "id": "449f94d8",
   "metadata": {
    "execution": {
     "iopub.execute_input": "2024-08-27T01:01:47.373408Z",
     "iopub.status.busy": "2024-08-27T01:01:47.373097Z",
     "iopub.status.idle": "2024-08-27T01:01:47.376791Z",
     "shell.execute_reply": "2024-08-27T01:01:47.375932Z"
    },
    "papermill": {
     "duration": 0.014147,
     "end_time": "2024-08-27T01:01:47.378634",
     "exception": false,
     "start_time": "2024-08-27T01:01:47.364487",
     "status": "completed"
    },
    "tags": []
   },
   "outputs": [],
   "source": [
    "# !head submission.csv\n",
    "# !rm submission.csv"
   ]
  }
 ],
 "metadata": {
  "kaggle": {
   "accelerator": "gpu",
   "dataSources": [
    {
     "databundleVersionId": 9094797,
     "sourceId": 63056,
     "sourceType": "competition"
    },
    {
     "datasetId": 5582385,
     "sourceId": 9244695,
     "sourceType": "datasetVersion"
    },
    {
     "sourceId": 187730674,
     "sourceType": "kernelVersion"
    },
    {
     "modelId": 312,
     "modelInstanceId": 2656,
     "sourceId": 3729,
     "sourceType": "modelInstanceVersion"
    }
   ],
   "isGpuEnabled": true,
   "isInternetEnabled": false,
   "language": "python",
   "sourceType": "notebook"
  },
  "kernelspec": {
   "display_name": "Python 3",
   "language": "python",
   "name": "python3"
  },
  "language_info": {
   "codemirror_mode": {
    "name": "ipython",
    "version": 3
   },
   "file_extension": ".py",
   "mimetype": "text/x-python",
   "name": "python",
   "nbconvert_exporter": "python",
   "pygments_lexer": "ipython3",
   "version": "3.10.14"
  },
  "papermill": {
   "default_parameters": {},
   "duration": 3.569352,
   "end_time": "2024-08-27T01:01:47.604668",
   "environment_variables": {},
   "exception": null,
   "input_path": "__notebook__.ipynb",
   "output_path": "__notebook__.ipynb",
   "parameters": {},
   "start_time": "2024-08-27T01:01:44.035316",
   "version": "2.6.0"
  }
 },
 "nbformat": 4,
 "nbformat_minor": 5
}
