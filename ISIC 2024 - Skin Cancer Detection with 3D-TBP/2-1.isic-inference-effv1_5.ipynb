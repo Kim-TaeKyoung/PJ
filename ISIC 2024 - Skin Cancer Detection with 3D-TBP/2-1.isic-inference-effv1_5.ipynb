{
 "cells": [
  {
   "cell_type": "markdown",
   "id": "165ca357",
   "metadata": {
    "papermill": {
     "duration": 0.008708,
     "end_time": "2024-08-23T05:32:00.388531",
     "exception": false,
     "start_time": "2024-08-23T05:32:00.379823",
     "status": "completed"
    },
    "tags": []
   },
   "source": [
    "# <span><h1 style = \"font-family: garamond; font-size: 40px; font-style: normal; letter-spcaing: 3px; background-color: #f6f5f5; color :#fe346e; border-radius: 100px 100px; text-align:center\">Import Required Libraries 📚</h1></span>"
   ]
  },
  {
   "cell_type": "code",
   "execution_count": 1,
   "id": "232287b5",
   "metadata": {
    "execution": {
     "iopub.execute_input": "2024-08-23T05:32:00.408083Z",
     "iopub.status.busy": "2024-08-23T05:32:00.407674Z",
     "iopub.status.idle": "2024-08-23T05:32:00.421734Z",
     "shell.execute_reply": "2024-08-23T05:32:00.420591Z"
    },
    "papermill": {
     "duration": 0.02669,
     "end_time": "2024-08-23T05:32:00.424081",
     "exception": false,
     "start_time": "2024-08-23T05:32:00.397391",
     "status": "completed"
    },
    "tags": []
   },
   "outputs": [
    {
     "name": "stdout",
     "output_type": "stream",
     "text": [
      "Writing main.py\n"
     ]
    }
   ],
   "source": [
    "%%writefile main.py\n",
    "import os\n",
    "import gc\n",
    "import cv2\n",
    "import math\n",
    "import copy\n",
    "import time\n",
    "import random\n",
    "import glob\n",
    "from matplotlib import pyplot as plt\n",
    "\n",
    "import h5py\n",
    "from PIL import Image\n",
    "from io import BytesIO\n",
    "\n",
    "# For data manipulation\n",
    "import numpy as np\n",
    "import pandas as pd\n",
    "\n",
    "# Pytorch Imports\n",
    "import torch\n",
    "import torch.nn as nn\n",
    "import torch.optim as optim\n",
    "import torch.nn.functional as F\n",
    "from torch.optim import lr_scheduler\n",
    "from torch.utils.data import Dataset, DataLoader\n",
    "from torch.cuda import amp\n",
    "import torchvision\n",
    "\n",
    "# Utils\n",
    "import joblib\n",
    "from tqdm import tqdm\n",
    "from collections import defaultdict\n",
    "\n",
    "# Sklearn Imports\n",
    "from sklearn.preprocessing import LabelEncoder\n",
    "from sklearn.model_selection import StratifiedKFold\n",
    "\n",
    "# For Image Models\n",
    "import timm\n",
    "\n",
    "# Albumentations for augmentations\n",
    "import albumentations as A\n",
    "from albumentations.pytorch import ToTensorV2\n",
    "\n",
    "# For colored terminal text\n",
    "from colorama import Fore, Back, Style\n",
    "b_ = Fore.BLUE\n",
    "sr_ = Style.RESET_ALL\n",
    "\n",
    "import warnings\n",
    "warnings.filterwarnings(\"ignore\")\n",
    "\n",
    "# For descriptive error messages\n",
    "os.environ['CUDA_LAUNCH_BLOCKING'] = \"1\""
   ]
  },
  {
   "cell_type": "code",
   "execution_count": 2,
   "id": "8b151d25",
   "metadata": {
    "execution": {
     "iopub.execute_input": "2024-08-23T05:32:00.444324Z",
     "iopub.status.busy": "2024-08-23T05:32:00.443595Z",
     "iopub.status.idle": "2024-08-23T05:32:00.450291Z",
     "shell.execute_reply": "2024-08-23T05:32:00.449120Z"
    },
    "papermill": {
     "duration": 0.01936,
     "end_time": "2024-08-23T05:32:00.452546",
     "exception": false,
     "start_time": "2024-08-23T05:32:00.433186",
     "status": "completed"
    },
    "tags": []
   },
   "outputs": [
    {
     "name": "stdout",
     "output_type": "stream",
     "text": [
      "Appending to main.py\n"
     ]
    }
   ],
   "source": [
    "%%writefile -a main.py\n",
    "import sys\n",
    "BEST_WEIGHT = sys.argv[1]\n",
    "print(f\"BEST_WEIGHT = {BEST_WEIGHT}\")"
   ]
  },
  {
   "cell_type": "markdown",
   "id": "ec3af7fe",
   "metadata": {
    "papermill": {
     "duration": 0.008716,
     "end_time": "2024-08-23T05:32:00.470500",
     "exception": false,
     "start_time": "2024-08-23T05:32:00.461784",
     "status": "completed"
    },
    "tags": []
   },
   "source": [
    "# <span><h1 style = \"font-family: garamond; font-size: 40px; font-style: normal; letter-spcaing: 3px; background-color: #f6f5f5; color :#fe346e; border-radius: 100px 100px; text-align:center\">Training Configuration ⚙️</h1></span>"
   ]
  },
  {
   "cell_type": "code",
   "execution_count": 3,
   "id": "026eb2da",
   "metadata": {
    "execution": {
     "iopub.execute_input": "2024-08-23T05:32:00.490211Z",
     "iopub.status.busy": "2024-08-23T05:32:00.489809Z",
     "iopub.status.idle": "2024-08-23T05:32:00.496066Z",
     "shell.execute_reply": "2024-08-23T05:32:00.495037Z"
    },
    "papermill": {
     "duration": 0.018984,
     "end_time": "2024-08-23T05:32:00.498439",
     "exception": false,
     "start_time": "2024-08-23T05:32:00.479455",
     "status": "completed"
    },
    "tags": []
   },
   "outputs": [
    {
     "name": "stdout",
     "output_type": "stream",
     "text": [
      "Appending to main.py\n"
     ]
    }
   ],
   "source": [
    "%%writefile -a main.py\n",
    "CONFIG = {\n",
    "    \"seed\": 42,\n",
    "    \"img_size\": 224,\n",
    "    \"model_name\": \"efficientnet_b0\",\n",
    "    \"valid_batch_size\": 32,\n",
    "    \"device\": torch.device(\"cuda:0\" if torch.cuda.is_available() else \"cpu\"),\n",
    "}"
   ]
  },
  {
   "cell_type": "markdown",
   "id": "219bf50c",
   "metadata": {
    "papermill": {
     "duration": 0.008968,
     "end_time": "2024-08-23T05:32:00.516358",
     "exception": false,
     "start_time": "2024-08-23T05:32:00.507390",
     "status": "completed"
    },
    "tags": []
   },
   "source": [
    "# <span><h1 style = \"font-family: garamond; font-size: 40px; font-style: normal; letter-spcaing: 3px; background-color: #f6f5f5; color :#fe346e; border-radius: 100px 100px; text-align:center\">Set Seed for Reproducibility</h1></span>"
   ]
  },
  {
   "cell_type": "code",
   "execution_count": 4,
   "id": "13f18f8a",
   "metadata": {
    "execution": {
     "iopub.execute_input": "2024-08-23T05:32:00.536677Z",
     "iopub.status.busy": "2024-08-23T05:32:00.536257Z",
     "iopub.status.idle": "2024-08-23T05:32:00.542929Z",
     "shell.execute_reply": "2024-08-23T05:32:00.541870Z"
    },
    "papermill": {
     "duration": 0.019983,
     "end_time": "2024-08-23T05:32:00.545490",
     "exception": false,
     "start_time": "2024-08-23T05:32:00.525507",
     "status": "completed"
    },
    "tags": []
   },
   "outputs": [
    {
     "name": "stdout",
     "output_type": "stream",
     "text": [
      "Appending to main.py\n"
     ]
    }
   ],
   "source": [
    "%%writefile -a main.py\n",
    "def set_seed(seed=42):\n",
    "    np.random.seed(seed)\n",
    "    torch.manual_seed(seed)\n",
    "    torch.cuda.manual_seed(seed)\n",
    "    torch.backends.cudnn.deterministic = True\n",
    "    torch.backends.cudnn.benchmark = False\n",
    "    os.environ['PYTHONHASHSEED'] = str(seed)\n",
    "    \n",
    "set_seed(CONFIG['seed'])"
   ]
  },
  {
   "cell_type": "code",
   "execution_count": 5,
   "id": "745d9690",
   "metadata": {
    "execution": {
     "iopub.execute_input": "2024-08-23T05:32:00.584854Z",
     "iopub.status.busy": "2024-08-23T05:32:00.584061Z",
     "iopub.status.idle": "2024-08-23T05:32:00.590355Z",
     "shell.execute_reply": "2024-08-23T05:32:00.589443Z"
    },
    "papermill": {
     "duration": 0.019628,
     "end_time": "2024-08-23T05:32:00.593086",
     "exception": false,
     "start_time": "2024-08-23T05:32:00.573458",
     "status": "completed"
    },
    "tags": []
   },
   "outputs": [
    {
     "name": "stdout",
     "output_type": "stream",
     "text": [
      "Appending to main.py\n"
     ]
    }
   ],
   "source": [
    "%%writefile -a main.py\n",
    "ROOT_DIR = \"/kaggle/input/isic-2024-challenge\"\n",
    "TEST_CSV = f'{ROOT_DIR}/test-metadata.csv'\n",
    "TEST_HDF = f'{ROOT_DIR}/test-image.hdf5'\n",
    "SAMPLE = f'{ROOT_DIR}/sample_submission.csv'\n",
    "\n",
    "# BEST_WEIGHT = \"/kaggle/input/efficientnet-weight/effnetv1b0_5_AUROC0.5924_Loss0.1916_epoch13.bin\""
   ]
  },
  {
   "cell_type": "markdown",
   "id": "4de937c9",
   "metadata": {
    "papermill": {
     "duration": 0.00913,
     "end_time": "2024-08-23T05:32:00.611768",
     "exception": false,
     "start_time": "2024-08-23T05:32:00.602638",
     "status": "completed"
    },
    "tags": []
   },
   "source": [
    "# <h1 style = \"font-family: garamond; font-size: 40px; font-style: normal; letter-spcaing: 3px; background-color: #f6f5f5; color :#fe346e; border-radius: 100px 100px; text-align:center\">Read the Data 📖</h1>"
   ]
  },
  {
   "cell_type": "code",
   "execution_count": 6,
   "id": "57a3d37d",
   "metadata": {
    "execution": {
     "iopub.execute_input": "2024-08-23T05:32:00.632854Z",
     "iopub.status.busy": "2024-08-23T05:32:00.632085Z",
     "iopub.status.idle": "2024-08-23T05:32:00.638225Z",
     "shell.execute_reply": "2024-08-23T05:32:00.637232Z"
    },
    "papermill": {
     "duration": 0.019429,
     "end_time": "2024-08-23T05:32:00.640879",
     "exception": false,
     "start_time": "2024-08-23T05:32:00.621450",
     "status": "completed"
    },
    "tags": []
   },
   "outputs": [
    {
     "name": "stdout",
     "output_type": "stream",
     "text": [
      "Appending to main.py\n"
     ]
    }
   ],
   "source": [
    "%%writefile -a main.py\n",
    "df = pd.read_csv(TEST_CSV)\n",
    "df['target'] = 0 # dummy\n",
    "df"
   ]
  },
  {
   "cell_type": "code",
   "execution_count": 7,
   "id": "a14c7efc",
   "metadata": {
    "execution": {
     "iopub.execute_input": "2024-08-23T05:32:00.661916Z",
     "iopub.status.busy": "2024-08-23T05:32:00.661464Z",
     "iopub.status.idle": "2024-08-23T05:32:00.667243Z",
     "shell.execute_reply": "2024-08-23T05:32:00.666190Z"
    },
    "papermill": {
     "duration": 0.019448,
     "end_time": "2024-08-23T05:32:00.670187",
     "exception": false,
     "start_time": "2024-08-23T05:32:00.650739",
     "status": "completed"
    },
    "tags": []
   },
   "outputs": [
    {
     "name": "stdout",
     "output_type": "stream",
     "text": [
      "Appending to main.py\n"
     ]
    }
   ],
   "source": [
    "%%writefile -a main.py\n",
    "df_sub = pd.read_csv(SAMPLE)\n",
    "df_sub"
   ]
  },
  {
   "cell_type": "markdown",
   "id": "c9bdb8c2",
   "metadata": {
    "papermill": {
     "duration": 0.009291,
     "end_time": "2024-08-23T05:32:00.689496",
     "exception": false,
     "start_time": "2024-08-23T05:32:00.680205",
     "status": "completed"
    },
    "tags": []
   },
   "source": [
    "# <span><h1 style = \"font-family: garamond; font-size: 40px; font-style: normal; letter-spcaing: 3px; background-color: #f6f5f5; color :#fe346e; border-radius: 100px 100px; text-align:center\">Dataset Class</h1></span>"
   ]
  },
  {
   "cell_type": "code",
   "execution_count": 8,
   "id": "b8655869",
   "metadata": {
    "execution": {
     "iopub.execute_input": "2024-08-23T05:32:00.710371Z",
     "iopub.status.busy": "2024-08-23T05:32:00.710009Z",
     "iopub.status.idle": "2024-08-23T05:32:00.716519Z",
     "shell.execute_reply": "2024-08-23T05:32:00.715456Z"
    },
    "papermill": {
     "duration": 0.01997,
     "end_time": "2024-08-23T05:32:00.718979",
     "exception": false,
     "start_time": "2024-08-23T05:32:00.699009",
     "status": "completed"
    },
    "tags": []
   },
   "outputs": [
    {
     "name": "stdout",
     "output_type": "stream",
     "text": [
      "Appending to main.py\n"
     ]
    }
   ],
   "source": [
    "%%writefile -a main.py\n",
    "class ISICDataset(Dataset):\n",
    "    def __init__(self, df, file_hdf, transforms=None):\n",
    "        self.df = df\n",
    "        self.fp_hdf = h5py.File(file_hdf, mode=\"r\")\n",
    "        self.isic_ids = df['isic_id'].values\n",
    "        self.targets = df['target'].values\n",
    "        self.transforms = transforms\n",
    "        \n",
    "    def __len__(self):\n",
    "        return len(self.isic_ids)\n",
    "    \n",
    "    def __getitem__(self, index):\n",
    "        isic_id = self.isic_ids[index]\n",
    "        img = np.array( Image.open(BytesIO(self.fp_hdf[isic_id][()])) )\n",
    "        target = self.targets[index]\n",
    "        \n",
    "        if self.transforms:\n",
    "            img = self.transforms(image=img)[\"image\"]\n",
    "            \n",
    "        return {\n",
    "            'image': img,\n",
    "            'target': target,\n",
    "        }"
   ]
  },
  {
   "cell_type": "markdown",
   "id": "194a1cc6",
   "metadata": {
    "papermill": {
     "duration": 0.009412,
     "end_time": "2024-08-23T05:32:00.738254",
     "exception": false,
     "start_time": "2024-08-23T05:32:00.728842",
     "status": "completed"
    },
    "tags": []
   },
   "source": [
    "# <span><h1 style = \"font-family: garamond; font-size: 40px; font-style: normal; letter-spcaing: 3px; background-color: #f6f5f5; color :#fe346e; border-radius: 100px 100px; text-align:center\">Augmentations</h1></span>"
   ]
  },
  {
   "cell_type": "code",
   "execution_count": 9,
   "id": "438839b2",
   "metadata": {
    "execution": {
     "iopub.execute_input": "2024-08-23T05:32:00.759576Z",
     "iopub.status.busy": "2024-08-23T05:32:00.758772Z",
     "iopub.status.idle": "2024-08-23T05:32:00.765644Z",
     "shell.execute_reply": "2024-08-23T05:32:00.764458Z"
    },
    "papermill": {
     "duration": 0.01994,
     "end_time": "2024-08-23T05:32:00.767847",
     "exception": false,
     "start_time": "2024-08-23T05:32:00.747907",
     "status": "completed"
    },
    "tags": []
   },
   "outputs": [
    {
     "name": "stdout",
     "output_type": "stream",
     "text": [
      "Appending to main.py\n"
     ]
    }
   ],
   "source": [
    "%%writefile -a main.py\n",
    "data_transforms = {\n",
    "    \"valid\": A.Compose([\n",
    "        A.Resize(CONFIG['img_size'], CONFIG['img_size']),\n",
    "        A.Normalize(\n",
    "                mean=[0.485, 0.456, 0.406], \n",
    "                std=[0.229, 0.224, 0.225], \n",
    "                max_pixel_value=255.0, \n",
    "                p=1.0\n",
    "            ),\n",
    "        ToTensorV2()], p=1.)\n",
    "}"
   ]
  },
  {
   "cell_type": "markdown",
   "id": "928c225b",
   "metadata": {
    "papermill": {
     "duration": 0.009521,
     "end_time": "2024-08-23T05:32:00.787266",
     "exception": false,
     "start_time": "2024-08-23T05:32:00.777745",
     "status": "completed"
    },
    "tags": []
   },
   "source": [
    "# <span><h1 style = \"font-family: garamond; font-size: 40px; font-style: normal; letter-spcaing: 3px; background-color: #f6f5f5; color :#fe346e; border-radius: 100px 100px; text-align:center\">GeM Pooling</h1></span>"
   ]
  },
  {
   "cell_type": "code",
   "execution_count": 10,
   "id": "84356450",
   "metadata": {
    "execution": {
     "iopub.execute_input": "2024-08-23T05:32:00.809833Z",
     "iopub.status.busy": "2024-08-23T05:32:00.808712Z",
     "iopub.status.idle": "2024-08-23T05:32:00.816690Z",
     "shell.execute_reply": "2024-08-23T05:32:00.815498Z"
    },
    "papermill": {
     "duration": 0.021625,
     "end_time": "2024-08-23T05:32:00.818984",
     "exception": false,
     "start_time": "2024-08-23T05:32:00.797359",
     "status": "completed"
    },
    "tags": []
   },
   "outputs": [
    {
     "name": "stdout",
     "output_type": "stream",
     "text": [
      "Appending to main.py\n"
     ]
    }
   ],
   "source": [
    "%%writefile -a main.py\n",
    "class GeM(nn.Module):\n",
    "    def __init__(self, p=3, eps=1e-6, p_clamp_min=1.0, p_clamp_max=6.0, dynamic_p=False):\n",
    "        super(GeM, self).__init__()\n",
    "        self.p = nn.Parameter(torch.ones(1) * p)  # 학습 가능한 p 파라미터 초기화\n",
    "        self.eps = eps  # 작은 값으로 인해 0으로 나누는 것을 방지\n",
    "        self.p_clamp_min = p_clamp_min\n",
    "        self.p_clamp_max = p_clamp_max\n",
    "        self.dynamic_p = dynamic_p\n",
    "        \n",
    "        if self.dynamic_p:\n",
    "            # 동적으로 p 값을 계산하는 레이어 추가\n",
    "            self.p_layer = nn.Sequential(\n",
    "                nn.Conv2d(1, 1, kernel_size=1),\n",
    "                nn.Sigmoid()\n",
    "            )\n",
    "    \n",
    "    def forward(self, x):\n",
    "        if self.dynamic_p:\n",
    "            # p 값을 입력에 따라 동적으로 계산\n",
    "            p = self.p_layer(x.mean(dim=(2, 3), keepdim=True))\n",
    "            p = p * (self.p_clamp_max - self.p_clamp_min) + self.p_clamp_min  # p 값 범위 조정\n",
    "        else:\n",
    "            # 정적 p 값 사용\n",
    "            p = self.p.clamp(min=self.p_clamp_min, max=self.p_clamp_max)\n",
    "        \n",
    "        return self.gem(x, p, self.eps)\n",
    "        \n",
    "    def gem(self, x, p, eps):\n",
    "        # GeM 수식 적용\n",
    "        return F.avg_pool2d(x.clamp(min=eps).pow(p), (x.size(-2), x.size(-1))).pow(1./p)\n",
    "        \n",
    "    def __repr__(self):\n",
    "        # 클래스 설명 문자열 반환\n",
    "        return (f\"{self.__class__.__name__}(p={self.p.data.item():.4f}, eps={self.eps}, \"\n",
    "                f\"p_clamp_min={self.p_clamp_min}, p_clamp_max={self.p_clamp_max}, \"\n",
    "                f\"dynamic_p={self.dynamic_p})\")\n",
    "\n"
   ]
  },
  {
   "cell_type": "markdown",
   "id": "b8537417",
   "metadata": {
    "papermill": {
     "duration": 0.010092,
     "end_time": "2024-08-23T05:32:00.839313",
     "exception": false,
     "start_time": "2024-08-23T05:32:00.829221",
     "status": "completed"
    },
    "tags": []
   },
   "source": [
    "# <span><h1 style = \"font-family: garamond; font-size: 40px; font-style: normal; letter-spcaing: 3px; background-color: #f6f5f5; color :#fe346e; border-radius: 100px 100px; text-align:center\">Create Model</h1></span>"
   ]
  },
  {
   "cell_type": "code",
   "execution_count": 11,
   "id": "3e0dd666",
   "metadata": {
    "execution": {
     "iopub.execute_input": "2024-08-23T05:32:00.860980Z",
     "iopub.status.busy": "2024-08-23T05:32:00.860555Z",
     "iopub.status.idle": "2024-08-23T05:32:00.867675Z",
     "shell.execute_reply": "2024-08-23T05:32:00.866698Z"
    },
    "papermill": {
     "duration": 0.021008,
     "end_time": "2024-08-23T05:32:00.870196",
     "exception": false,
     "start_time": "2024-08-23T05:32:00.849188",
     "status": "completed"
    },
    "tags": []
   },
   "outputs": [
    {
     "name": "stdout",
     "output_type": "stream",
     "text": [
      "Appending to main.py\n"
     ]
    }
   ],
   "source": [
    "%%writefile -a main.py\n",
    "class ISICModel(nn.Module):\n",
    "    def __init__(self, model_name, num_classes=1, pretrained=True):\n",
    "        super(ISICModel, self).__init__()\n",
    "        self.model = timm.create_model(model_name, pretrained=pretrained)\n",
    "\n",
    "        # EfficientNet-B1의 마지막 레이어 조정\n",
    "        in_features = self.model.classifier.in_features\n",
    "        self.model.classifier = nn.Identity()\n",
    "        self.model.global_pool = nn.Identity()\n",
    "        \n",
    "        # GeM Pooling 및 새로운 분류 레이어 추가\n",
    "        self.pooling = GeM()\n",
    "        self.linear = nn.Linear(in_features, num_classes)\n",
    "        self.sigmoid = nn.Sigmoid() \n",
    "\n",
    "    def forward(self, images):\n",
    "        features = self.model(images)\n",
    "        pooled_features = self.pooling(features).flatten(1)\n",
    "        output = self.linear(pooled_features)\n",
    "        output = self.sigmoid(self.linear(pooled_features)) \n",
    "        return output\n",
    "    \n",
    "model = ISICModel('efficientnet_b0', pretrained=False)\n",
    "model.load_state_dict( torch.load(BEST_WEIGHT) )\n",
    "model.to(CONFIG['device']);"
   ]
  },
  {
   "cell_type": "markdown",
   "id": "16d51131",
   "metadata": {
    "papermill": {
     "duration": 0.00964,
     "end_time": "2024-08-23T05:32:00.889906",
     "exception": false,
     "start_time": "2024-08-23T05:32:00.880266",
     "status": "completed"
    },
    "tags": []
   },
   "source": [
    "<span style=\"color: #000508; font-family: Segoe UI; font-size: 1.5em; font-weight: 300;\">Prepare Dataloaders</span>"
   ]
  },
  {
   "cell_type": "code",
   "execution_count": 12,
   "id": "8392251c",
   "metadata": {
    "execution": {
     "iopub.execute_input": "2024-08-23T05:32:00.911395Z",
     "iopub.status.busy": "2024-08-23T05:32:00.911019Z",
     "iopub.status.idle": "2024-08-23T05:32:00.917637Z",
     "shell.execute_reply": "2024-08-23T05:32:00.916497Z"
    },
    "papermill": {
     "duration": 0.02014,
     "end_time": "2024-08-23T05:32:00.920000",
     "exception": false,
     "start_time": "2024-08-23T05:32:00.899860",
     "status": "completed"
    },
    "tags": []
   },
   "outputs": [
    {
     "name": "stdout",
     "output_type": "stream",
     "text": [
      "Appending to main.py\n"
     ]
    }
   ],
   "source": [
    "%%writefile -a main.py\n",
    "test_dataset = ISICDataset(df, TEST_HDF, transforms=data_transforms[\"valid\"])\n",
    "test_loader = DataLoader(test_dataset, batch_size=CONFIG['valid_batch_size'], \n",
    "                          num_workers=2, shuffle=False, pin_memory=True)"
   ]
  },
  {
   "cell_type": "markdown",
   "id": "387d786b",
   "metadata": {
    "papermill": {
     "duration": 0.010152,
     "end_time": "2024-08-23T05:32:00.940349",
     "exception": false,
     "start_time": "2024-08-23T05:32:00.930197",
     "status": "completed"
    },
    "tags": []
   },
   "source": [
    "<span style=\"color: #000508; font-family: Segoe UI; font-size: 1.5em; font-weight: 300;\">Start Inference</span>"
   ]
  },
  {
   "cell_type": "code",
   "execution_count": 13,
   "id": "e2233e93",
   "metadata": {
    "execution": {
     "iopub.execute_input": "2024-08-23T05:32:00.962859Z",
     "iopub.status.busy": "2024-08-23T05:32:00.962053Z",
     "iopub.status.idle": "2024-08-23T05:32:00.968591Z",
     "shell.execute_reply": "2024-08-23T05:32:00.967506Z"
    },
    "papermill": {
     "duration": 0.020656,
     "end_time": "2024-08-23T05:32:00.971261",
     "exception": false,
     "start_time": "2024-08-23T05:32:00.950605",
     "status": "completed"
    },
    "tags": []
   },
   "outputs": [
    {
     "name": "stdout",
     "output_type": "stream",
     "text": [
      "Appending to main.py\n"
     ]
    }
   ],
   "source": [
    "%%writefile -a main.py\n",
    "preds = []\n",
    "with torch.no_grad():\n",
    "    bar = tqdm(enumerate(test_loader), total=len(test_loader))\n",
    "    for step, data in bar:        \n",
    "        images = data['image'].to(CONFIG[\"device\"], dtype=torch.float)        \n",
    "        batch_size = images.size(0)\n",
    "        outputs = model(images)\n",
    "        preds.append( outputs.detach().cpu().numpy() )\n",
    "preds = np.concatenate(preds).flatten()"
   ]
  },
  {
   "cell_type": "code",
   "execution_count": 14,
   "id": "36f2360f",
   "metadata": {
    "execution": {
     "iopub.execute_input": "2024-08-23T05:32:00.993507Z",
     "iopub.status.busy": "2024-08-23T05:32:00.992831Z",
     "iopub.status.idle": "2024-08-23T05:32:00.999194Z",
     "shell.execute_reply": "2024-08-23T05:32:00.998232Z"
    },
    "papermill": {
     "duration": 0.020176,
     "end_time": "2024-08-23T05:32:01.001606",
     "exception": false,
     "start_time": "2024-08-23T05:32:00.981430",
     "status": "completed"
    },
    "tags": []
   },
   "outputs": [
    {
     "name": "stdout",
     "output_type": "stream",
     "text": [
      "Appending to main.py\n"
     ]
    }
   ],
   "source": [
    "%%writefile -a main.py\n",
    "df_sub[\"target\"] = preds\n",
    "df_sub.to_csv(\"submission.csv\", index=False)"
   ]
  },
  {
   "cell_type": "markdown",
   "id": "bb5d65ec",
   "metadata": {
    "papermill": {
     "duration": 0.010321,
     "end_time": "2024-08-23T05:32:01.022041",
     "exception": false,
     "start_time": "2024-08-23T05:32:01.011720",
     "status": "completed"
    },
    "tags": []
   },
   "source": [
    "# Test"
   ]
  },
  {
   "cell_type": "code",
   "execution_count": 15,
   "id": "509e84c1",
   "metadata": {
    "execution": {
     "iopub.execute_input": "2024-08-23T05:32:01.044343Z",
     "iopub.status.busy": "2024-08-23T05:32:01.043596Z",
     "iopub.status.idle": "2024-08-23T05:32:37.947894Z",
     "shell.execute_reply": "2024-08-23T05:32:37.946794Z"
    },
    "papermill": {
     "duration": 36.918782,
     "end_time": "2024-08-23T05:32:37.950675",
     "exception": false,
     "start_time": "2024-08-23T05:32:01.031893",
     "status": "completed"
    },
    "tags": []
   },
   "outputs": [
    {
     "name": "stdout",
     "output_type": "stream",
     "text": [
      "/opt/conda/lib/python3.10/site-packages/albumentations/check_version.py:49: UserWarning: Error fetching version info <urlopen error [Errno -3] Temporary failure in name resolution>\r\n",
      "  data = fetch_version_info()\r\n",
      "BEST_WEIGHT = /kaggle/input/efficientnet-weight/effnetv1b0_5_AUROC0.5924_Loss0.1916_epoch13.bin\r\n",
      "100%|█████████████████████████████████████████████| 1/1 [00:01<00:00,  1.02s/it]\r\n"
     ]
    }
   ],
   "source": [
    "!python main.py /kaggle/input/efficientnet-weight/effnetv1b0_5_AUROC0.5924_Loss0.1916_epoch13.bin"
   ]
  },
  {
   "cell_type": "code",
   "execution_count": 16,
   "id": "0ba598b4",
   "metadata": {
    "execution": {
     "iopub.execute_input": "2024-08-23T05:32:37.974346Z",
     "iopub.status.busy": "2024-08-23T05:32:37.973951Z",
     "iopub.status.idle": "2024-08-23T05:32:40.230598Z",
     "shell.execute_reply": "2024-08-23T05:32:40.229369Z"
    },
    "papermill": {
     "duration": 2.271392,
     "end_time": "2024-08-23T05:32:40.233402",
     "exception": false,
     "start_time": "2024-08-23T05:32:37.962010",
     "status": "completed"
    },
    "tags": []
   },
   "outputs": [
    {
     "name": "stdout",
     "output_type": "stream",
     "text": [
      "isic_id,target\r\n",
      "ISIC_0015657,0.78303665\r\n",
      "ISIC_0015729,0.037167512\r\n",
      "ISIC_0015740,0.66878426\r\n"
     ]
    }
   ],
   "source": [
    "!head submission.csv\n",
    "!rm submission.csv"
   ]
  },
  {
   "cell_type": "code",
   "execution_count": null,
   "id": "618b638f",
   "metadata": {
    "papermill": {
     "duration": 0.010106,
     "end_time": "2024-08-23T05:32:40.254244",
     "exception": false,
     "start_time": "2024-08-23T05:32:40.244138",
     "status": "completed"
    },
    "tags": []
   },
   "outputs": [],
   "source": []
  },
  {
   "cell_type": "code",
   "execution_count": null,
   "id": "afee5b89",
   "metadata": {
    "papermill": {
     "duration": 0.01054,
     "end_time": "2024-08-23T05:32:40.275277",
     "exception": false,
     "start_time": "2024-08-23T05:32:40.264737",
     "status": "completed"
    },
    "tags": []
   },
   "outputs": [],
   "source": []
  }
 ],
 "metadata": {
  "kaggle": {
   "accelerator": "gpu",
   "dataSources": [
    {
     "databundleVersionId": 9094797,
     "sourceId": 63056,
     "sourceType": "competition"
    },
    {
     "datasetId": 5582385,
     "sourceId": 9229774,
     "sourceType": "datasetVersion"
    },
    {
     "sourceId": 186147615,
     "sourceType": "kernelVersion"
    },
    {
     "modelId": 312,
     "modelInstanceId": 2656,
     "sourceId": 3729,
     "sourceType": "modelInstanceVersion"
    }
   ],
   "isGpuEnabled": true,
   "isInternetEnabled": false,
   "language": "python",
   "sourceType": "notebook"
  },
  "kernelspec": {
   "display_name": "Python 3",
   "language": "python",
   "name": "python3"
  },
  "language_info": {
   "codemirror_mode": {
    "name": "ipython",
    "version": 3
   },
   "file_extension": ".py",
   "mimetype": "text/x-python",
   "name": "python",
   "nbconvert_exporter": "python",
   "pygments_lexer": "ipython3",
   "version": "3.10.14"
  },
  "papermill": {
   "default_parameters": {},
   "duration": 43.544501,
   "end_time": "2024-08-23T05:32:40.606556",
   "environment_variables": {},
   "exception": null,
   "input_path": "__notebook__.ipynb",
   "output_path": "__notebook__.ipynb",
   "parameters": {},
   "start_time": "2024-08-23T05:31:57.062055",
   "version": "2.6.0"
  }
 },
 "nbformat": 4,
 "nbformat_minor": 5
}
