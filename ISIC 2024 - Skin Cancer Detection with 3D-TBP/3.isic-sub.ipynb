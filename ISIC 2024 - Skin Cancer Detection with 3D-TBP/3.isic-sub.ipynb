{
 "cells": [
  {
   "cell_type": "markdown",
   "id": "ba52419b",
   "metadata": {
    "papermill": {
     "duration": 0.00991,
     "end_time": "2024-08-27T01:11:30.049312",
     "exception": false,
     "start_time": "2024-08-27T01:11:30.039402",
     "status": "completed"
    },
    "tags": []
   },
   "source": [
    "# CONFIG"
   ]
  },
  {
   "cell_type": "code",
   "execution_count": 1,
   "id": "d3e4c400",
   "metadata": {
    "execution": {
     "iopub.execute_input": "2024-08-27T01:11:30.069144Z",
     "iopub.status.busy": "2024-08-27T01:11:30.068774Z",
     "iopub.status.idle": "2024-08-27T01:11:30.078394Z",
     "shell.execute_reply": "2024-08-27T01:11:30.077712Z"
    },
    "papermill": {
     "duration": 0.021729,
     "end_time": "2024-08-27T01:11:30.080348",
     "exception": false,
     "start_time": "2024-08-27T01:11:30.058619",
     "status": "completed"
    },
    "tags": []
   },
   "outputs": [],
   "source": [
    "err = 1e-5\n",
    "seed = 42\n",
    "fold = 5\n",
    "over_sampling_ratio = 0.003\n",
    "under_sampling_ratio = 0.01"
   ]
  },
  {
   "cell_type": "markdown",
   "id": "511bde89",
   "metadata": {
    "papermill": {
     "duration": 0.008686,
     "end_time": "2024-08-27T01:11:30.098070",
     "exception": false,
     "start_time": "2024-08-27T01:11:30.089384",
     "status": "completed"
    },
    "tags": []
   },
   "source": [
    "# IMPORT LIBRARIES"
   ]
  },
  {
   "cell_type": "code",
   "execution_count": 2,
   "id": "1b4c6d38",
   "metadata": {
    "_cell_guid": "b1076dfc-b9ad-4769-8c92-a6c4dae69d19",
    "_uuid": "8f2839f25d086af736a60e9eeb907d3b93b6e0e5",
    "execution": {
     "iopub.execute_input": "2024-08-27T01:11:30.117134Z",
     "iopub.status.busy": "2024-08-27T01:11:30.116846Z",
     "iopub.status.idle": "2024-08-27T01:11:32.357449Z",
     "shell.execute_reply": "2024-08-27T01:11:32.356673Z"
    },
    "papermill": {
     "duration": 2.252736,
     "end_time": "2024-08-27T01:11:32.359821",
     "exception": false,
     "start_time": "2024-08-27T01:11:30.107085",
     "status": "completed"
    },
    "tags": []
   },
   "outputs": [],
   "source": [
    "import os\n",
    "from pathlib import Path\n",
    "\n",
    "import numpy as np\n",
    "import pandas as pd\n",
    "import polars as pl\n",
    "\n",
    "from sklearn.preprocessing import OneHotEncoder\n",
    "from sklearn.metrics import roc_auc_score\n",
    "\n",
    "import warnings\n",
    "warnings.filterwarnings('ignore')"
   ]
  },
  {
   "cell_type": "markdown",
   "id": "8c7730fb",
   "metadata": {
    "papermill": {
     "duration": 0.00895,
     "end_time": "2024-08-27T01:11:32.378327",
     "exception": false,
     "start_time": "2024-08-27T01:11:32.369377",
     "status": "completed"
    },
    "tags": []
   },
   "source": [
    "# IMAGE PREDICTION"
   ]
  },
  {
   "cell_type": "code",
   "execution_count": 3,
   "id": "0117dee7",
   "metadata": {
    "execution": {
     "iopub.execute_input": "2024-08-27T01:11:32.397572Z",
     "iopub.status.busy": "2024-08-27T01:11:32.397114Z",
     "iopub.status.idle": "2024-08-27T01:12:07.034605Z",
     "shell.execute_reply": "2024-08-27T01:12:07.033487Z"
    },
    "papermill": {
     "duration": 34.6497,
     "end_time": "2024-08-27T01:12:07.037018",
     "exception": false,
     "start_time": "2024-08-27T01:11:32.387318",
     "status": "completed"
    },
    "tags": []
   },
   "outputs": [
    {
     "name": "stdout",
     "output_type": "stream",
     "text": [
      "/opt/conda/lib/python3.10/site-packages/albumentations/check_version.py:49: UserWarning: Error fetching version info <urlopen error [Errno -3] Temporary failure in name resolution>\r\n",
      "  data = fetch_version_info()\r\n",
      "BEST_WEIGHT = /kaggle/input/isic-pytorch-training-baseline-image-only/AUROC0.5171_Loss0.3476_epoch35.bin\r\n",
      "100%|█████████████████████████████████████████████| 1/1 [00:00<00:00,  1.04it/s]\r\n"
     ]
    }
   ],
   "source": [
    "#EFFNET V1B0\n",
    "!python /kaggle/input/isic-script-inference-effnetv1b0-f313ae/main.py /kaggle/input/isic-pytorch-training-baseline-image-only/AUROC0.5171_Loss0.3476_epoch35.bin\n",
    "!mv submission.csv submission_effnetv1b0.csv"
   ]
  },
  {
   "cell_type": "code",
   "execution_count": 4,
   "id": "66025649",
   "metadata": {
    "execution": {
     "iopub.execute_input": "2024-08-27T01:12:07.057448Z",
     "iopub.status.busy": "2024-08-27T01:12:07.057098Z",
     "iopub.status.idle": "2024-08-27T01:12:36.795645Z",
     "shell.execute_reply": "2024-08-27T01:12:36.794421Z"
    },
    "papermill": {
     "duration": 29.751367,
     "end_time": "2024-08-27T01:12:36.797952",
     "exception": false,
     "start_time": "2024-08-27T01:12:07.046585",
     "status": "completed"
    },
    "tags": []
   },
   "outputs": [
    {
     "name": "stdout",
     "output_type": "stream",
     "text": [
      "/opt/conda/lib/python3.10/site-packages/albumentations/check_version.py:49: UserWarning: Error fetching version info <urlopen error [Errno -3] Temporary failure in name resolution>\r\n",
      "  data = fetch_version_info()\r\n",
      "BEST_WEIGHT = /kaggle/input/efficientnet-weight/effnetv1b0_5_AUROC0.5924_Loss0.1916_epoch13.bin\r\n",
      "100%|█████████████████████████████████████████████| 1/1 [00:00<00:00,  2.27it/s]\r\n"
     ]
    }
   ],
   "source": [
    "#effnetv1_5\n",
    "!python /kaggle/input/isic-script-inference-effnetv1-5/main.py /kaggle/input/efficientnet-weight/effnetv1b0_5_AUROC0.5924_Loss0.1916_epoch13.bin\n",
    "!mv submission.csv submission_effnetv1b0_5.csv"
   ]
  },
  {
   "cell_type": "code",
   "execution_count": 5,
   "id": "bf791f7f",
   "metadata": {
    "execution": {
     "iopub.execute_input": "2024-08-27T01:12:36.818971Z",
     "iopub.status.busy": "2024-08-27T01:12:36.818600Z",
     "iopub.status.idle": "2024-08-27T01:13:07.660074Z",
     "shell.execute_reply": "2024-08-27T01:13:07.658841Z"
    },
    "papermill": {
     "duration": 30.854501,
     "end_time": "2024-08-27T01:13:07.662363",
     "exception": false,
     "start_time": "2024-08-27T01:12:36.807862",
     "status": "completed"
    },
    "tags": []
   },
   "outputs": [
    {
     "name": "stdout",
     "output_type": "stream",
     "text": [
      "/opt/conda/lib/python3.10/site-packages/albumentations/check_version.py:49: UserWarning: Error fetching version info <urlopen error [Errno -3] Temporary failure in name resolution>\r\n",
      "  data = fetch_version_info()\r\n",
      "BEST_WEIGHT = /kaggle/input/efficientnet-weight/effnetv2_AUROC0.5184_Loss0.2719_epoch35.bin\r\n",
      "100%|█████████████████████████████████████████████| 1/1 [00:00<00:00,  2.05it/s]\r\n"
     ]
    }
   ],
   "source": [
    "#effnetv2\n",
    "!python /kaggle/input/isic-inference-eff/main.py /kaggle/input/efficientnet-weight/effnetv2_AUROC0.5184_Loss0.2719_epoch35.bin\n",
    "!mv submission.csv submission_efficientnetv2_s.csv"
   ]
  },
  {
   "cell_type": "code",
   "execution_count": 6,
   "id": "a24d61fd",
   "metadata": {
    "execution": {
     "iopub.execute_input": "2024-08-27T01:13:07.684031Z",
     "iopub.status.busy": "2024-08-27T01:13:07.683716Z",
     "iopub.status.idle": "2024-08-27T01:13:38.505317Z",
     "shell.execute_reply": "2024-08-27T01:13:38.503955Z"
    },
    "papermill": {
     "duration": 30.835184,
     "end_time": "2024-08-27T01:13:38.507924",
     "exception": false,
     "start_time": "2024-08-27T01:13:07.672740",
     "status": "completed"
    },
    "tags": []
   },
   "outputs": [
    {
     "name": "stdout",
     "output_type": "stream",
     "text": [
      "/opt/conda/lib/python3.10/site-packages/albumentations/check_version.py:49: UserWarning: Error fetching version info <urlopen error [Errno -3] Temporary failure in name resolution>\r\n",
      "  data = fetch_version_info()\r\n",
      "BEST_WEIGHT = /kaggle/input/efficientnet-weight/effnetv2_1_AUROC0.5899_Loss0.1546_epoch14.bin\r\n",
      "100%|█████████████████████████████████████████████| 1/1 [00:00<00:00,  1.84it/s]\r\n"
     ]
    }
   ],
   "source": [
    "# effnetv2_1\n",
    "!python /kaggle/input/isic-inference-eff/main.py /kaggle/input/efficientnet-weight/effnetv2_1_AUROC0.5899_Loss0.1546_epoch14.bin\n",
    "!mv submission.csv submission_efficientnetv2_s_1.csv"
   ]
  },
  {
   "cell_type": "code",
   "execution_count": 7,
   "id": "e9ea248e",
   "metadata": {
    "execution": {
     "iopub.execute_input": "2024-08-27T01:13:38.531214Z",
     "iopub.status.busy": "2024-08-27T01:13:38.530360Z",
     "iopub.status.idle": "2024-08-27T01:14:18.526127Z",
     "shell.execute_reply": "2024-08-27T01:14:18.524844Z"
    },
    "papermill": {
     "duration": 40.010033,
     "end_time": "2024-08-27T01:14:18.528583",
     "exception": false,
     "start_time": "2024-08-27T01:13:38.518550",
     "status": "completed"
    },
    "tags": []
   },
   "outputs": [
    {
     "name": "stdout",
     "output_type": "stream",
     "text": [
      "/opt/conda/lib/python3.10/site-packages/albumentations/check_version.py:49: UserWarning: Error fetching version info <urlopen error [Errno -3] Temporary failure in name resolution>\r\n",
      "  data = fetch_version_info()\r\n",
      "/kaggle/input/isic-2024-pl-submission-script-and-preds/pl_submission.py:25: DtypeWarning: Columns (51,52) have mixed types. Specify dtype option on import or set low_memory=False.\r\n",
      "  df_train_meta = pd.read_csv(BASE_DATA_DIR + \"train-metadata.csv\")\r\n"
     ]
    }
   ],
   "source": [
    "#TARGET 3\n",
    "!python /kaggle/input/isic-2024-pl-submission-script-and-preds/pl_submission.py\n",
    "!mv submission.csv submission_image3.csv"
   ]
  },
  {
   "cell_type": "code",
   "execution_count": 8,
   "id": "ccf31dc6",
   "metadata": {
    "execution": {
     "iopub.execute_input": "2024-08-27T01:14:18.552006Z",
     "iopub.status.busy": "2024-08-27T01:14:18.551181Z",
     "iopub.status.idle": "2024-08-27T01:14:49.057973Z",
     "shell.execute_reply": "2024-08-27T01:14:49.056677Z"
    },
    "papermill": {
     "duration": 30.520917,
     "end_time": "2024-08-27T01:14:49.060494",
     "exception": false,
     "start_time": "2024-08-27T01:14:18.539577",
     "status": "completed"
    },
    "tags": []
   },
   "outputs": [
    {
     "name": "stdout",
     "output_type": "stream",
     "text": [
      "/opt/conda/lib/python3.10/site-packages/albumentations/check_version.py:49: UserWarning: Error fetching version info <urlopen error [Errno -3] Temporary failure in name resolution>\r\n",
      "  data = fetch_version_info()\r\n",
      "BEST_WEIGHT = /kaggle/input/isic-pytorch-training-baseline-eva02/AUROC0.5177_Loss0.2829_epoch7.bin\r\n",
      "100%|█████████████████████████████████████████████| 1/1 [00:00<00:00,  2.62it/s]\r\n"
     ]
    }
   ],
   "source": [
    "#EVA02\n",
    "!python /kaggle/input/isic-script-inference-eva02/main.py /kaggle/input/isic-pytorch-training-baseline-eva02/AUROC0.5177_Loss0.2829_epoch7.bin\n",
    "!mv submission.csv submission_eva02.csv"
   ]
  },
  {
   "cell_type": "markdown",
   "id": "13d38846",
   "metadata": {
    "papermill": {
     "duration": 0.010779,
     "end_time": "2024-08-27T01:14:49.082393",
     "exception": false,
     "start_time": "2024-08-27T01:14:49.071614",
     "status": "completed"
    },
    "tags": []
   },
   "source": [
    "# DATA ROOT"
   ]
  },
  {
   "cell_type": "code",
   "execution_count": 9,
   "id": "3ebd8c1d",
   "metadata": {
    "execution": {
     "iopub.execute_input": "2024-08-27T01:14:49.105184Z",
     "iopub.status.busy": "2024-08-27T01:14:49.104834Z",
     "iopub.status.idle": "2024-08-27T01:14:49.110188Z",
     "shell.execute_reply": "2024-08-27T01:14:49.109339Z"
    },
    "papermill": {
     "duration": 0.019109,
     "end_time": "2024-08-27T01:14:49.112215",
     "exception": false,
     "start_time": "2024-08-27T01:14:49.093106",
     "status": "completed"
    },
    "tags": []
   },
   "outputs": [],
   "source": [
    "root = Path('/kaggle/input/isic-2024-challenge')\n",
    "\n",
    "train_path = root / 'train-metadata.csv'\n",
    "test_path = root / 'test-metadata.csv'\n",
    "sub_path = root / 'sample_submission.csv'\n",
    "\n",
    "id_col = 'isic_id'\n",
    "target_col = 'target'\n",
    "group_col = 'patient_id'"
   ]
  },
  {
   "cell_type": "code",
   "execution_count": 10,
   "id": "c51f0532",
   "metadata": {
    "execution": {
     "iopub.execute_input": "2024-08-27T01:14:49.134834Z",
     "iopub.status.busy": "2024-08-27T01:14:49.134539Z",
     "iopub.status.idle": "2024-08-27T01:14:49.147317Z",
     "shell.execute_reply": "2024-08-27T01:14:49.146475Z"
    },
    "papermill": {
     "duration": 0.026411,
     "end_time": "2024-08-27T01:14:49.149214",
     "exception": false,
     "start_time": "2024-08-27T01:14:49.122803",
     "status": "completed"
    },
    "tags": []
   },
   "outputs": [],
   "source": [
    "num_cols = [\n",
    "    'age_approx',                        # Approximate age of patient at time of imaging.\n",
    "    'clin_size_long_diam_mm',            # Maximum diameter of the lesion (mm).+\n",
    "    'tbp_lv_A',                          # A inside  lesion.+\n",
    "    'tbp_lv_Aext',                       # A outside lesion.+\n",
    "    'tbp_lv_B',                          # B inside  lesion.+\n",
    "    'tbp_lv_Bext',                       # B outside lesion.+ \n",
    "    'tbp_lv_C',                          # Chroma inside  lesion.+\n",
    "    'tbp_lv_Cext',                       # Chroma outside lesion.+\n",
    "    'tbp_lv_H',                          # Hue inside the lesion; calculated as the angle of A* and B* in LAB* color space. Typical values range from 25 (red) to 75 (brown).+\n",
    "    'tbp_lv_Hext',                       # Hue outside lesion.+\n",
    "    'tbp_lv_L',                          # L inside lesion.+\n",
    "    'tbp_lv_Lext',                       # L outside lesion.+\n",
    "    'tbp_lv_areaMM2',                    # Area of lesion (mm^2).+\n",
    "    'tbp_lv_area_perim_ratio',           # Border jaggedness, the ratio between lesions perimeter and area. Circular lesions will have low values; irregular shaped lesions will have higher values. Values range 0-10.+\n",
    "    'tbp_lv_color_std_mean',             # Color irregularity, calculated as the variance of colors within the lesion's boundary.\n",
    "    'tbp_lv_deltaA',                     # Average A contrast (inside vs. outside lesion).+\n",
    "    'tbp_lv_deltaB',                     # Average B contrast (inside vs. outside lesion).+\n",
    "    'tbp_lv_deltaL',                     # Average L contrast (inside vs. outside lesion).+\n",
    "    'tbp_lv_deltaLB',                    #\n",
    "    'tbp_lv_deltaLBnorm',                # Contrast between the lesion and its immediate surrounding skin. Low contrast lesions tend to be faintly visible such as freckles; high contrast lesions tend to be those with darker pigment. Calculated as the average delta LB of the lesion relative to its immediate background in LAB* color space. Typical values range from 5.5 to 25.+\n",
    "    'tbp_lv_eccentricity',               # Eccentricity.+\n",
    "    'tbp_lv_minorAxisMM',                # Smallest lesion diameter (mm).+\n",
    "    'tbp_lv_nevi_confidence',            # Nevus confidence score (0-100 scale) is a convolutional neural network classifier estimated probability that the lesion is a nevus. The neural network was trained on approximately 57,000 lesions that were classified and labeled by a dermatologist.+,++\n",
    "    'tbp_lv_norm_border',                # Border irregularity (0-10 scale); the normalized average of border jaggedness and asymmetry.+\n",
    "    'tbp_lv_norm_color',                 # Color variation (0-10 scale); the normalized average of color asymmetry and color irregularity.+\n",
    "    'tbp_lv_perimeterMM',                # Perimeter of lesion (mm).+\n",
    "    'tbp_lv_radial_color_std_max',       # Color asymmetry, a measure of asymmetry of the spatial distribution of color within the lesion. This score is calculated by looking at the average standard deviation in LAB* color space within concentric rings originating from the lesion center. Values range 0-10.+\n",
    "    'tbp_lv_stdL',                       # Standard deviation of L inside  lesion.+\n",
    "    'tbp_lv_stdLExt',                    # Standard deviation of L outside lesion.+\n",
    "    'tbp_lv_symm_2axis',                 # Border asymmetry; a measure of asymmetry of the lesion's contour about an axis perpendicular to the lesion's most symmetric axis. Lesions with two axes of symmetry will therefore have low scores (more symmetric), while lesions with only one or zero axes of symmetry will have higher scores (less symmetric). This score is calculated by comparing opposite halves of the lesion contour over many degrees of rotation. The angle where the halves are most similar identifies the principal axis of symmetry, while the second axis of symmetry is perpendicular to the principal axis. Border asymmetry is reported as the asymmetry value about this second axis. Values range 0-10.+\n",
    "    'tbp_lv_symm_2axis_angle',           # Lesion border asymmetry angle.+\n",
    "    'tbp_lv_x',                          # X-coordinate of the lesion on 3D TBP.+\n",
    "    'tbp_lv_y',                          # Y-coordinate of the lesion on 3D TBP.+\n",
    "    'tbp_lv_z',                          # Z-coordinate of the lesion on 3D TBP.+\n",
    "]\n",
    "\n",
    "new_num_cols = [\n",
    "    'lesion_size_ratio',             # tbp_lv_minorAxisMM      / clin_size_long_diam_mm\n",
    "    'lesion_shape_index',            # tbp_lv_areaMM2          / tbp_lv_perimeterMM **2\n",
    "    'hue_contrast',                  # tbp_lv_H                - tbp_lv_Hext              abs\n",
    "    'luminance_contrast',            # tbp_lv_L                - tbp_lv_Lext              abs\n",
    "    'lesion_color_difference',       # tbp_lv_deltaA **2       + tbp_lv_deltaB **2 + tbp_lv_deltaL **2  sqrt  \n",
    "    'border_complexity',             # tbp_lv_norm_border      + tbp_lv_symm_2axis\n",
    "    'color_uniformity',              # tbp_lv_color_std_mean   / tbp_lv_radial_color_std_max\n",
    "\n",
    "    'position_distance_3d',          # tbp_lv_x **2 + tbp_lv_y **2 + tbp_lv_z **2  sqrt\n",
    "    'perimeter_to_area_ratio',       # tbp_lv_perimeterMM      / tbp_lv_areaMM2\n",
    "    'area_to_perimeter_ratio',       # tbp_lv_areaMM2          / tbp_lv_perimeterMM\n",
    "    'lesion_visibility_score',       # tbp_lv_deltaLBnorm      + tbp_lv_norm_color\n",
    "    'symmetry_border_consistency',   # tbp_lv_symm_2axis       * tbp_lv_norm_border\n",
    "    'consistency_symmetry_border',   # tbp_lv_symm_2axis       * tbp_lv_norm_border / (tbp_lv_symm_2axis + tbp_lv_norm_border)\n",
    "\n",
    "    'color_consistency',             # tbp_lv_stdL             / tbp_lv_Lext\n",
    "    'consistency_color',             # tbp_lv_stdL*tbp_lv_Lext / tbp_lv_stdL + tbp_lv_Lext\n",
    "    'size_age_interaction',          # clin_size_long_diam_mm  * age_approx\n",
    "    'hue_color_std_interaction',     # tbp_lv_H                * tbp_lv_color_std_mean\n",
    "    'lesion_severity_index',         # tbp_lv_norm_border      + tbp_lv_norm_color + tbp_lv_eccentricity / 3\n",
    "    'shape_complexity_index',        # border_complexity       + lesion_shape_index\n",
    "    'color_contrast_index',          # tbp_lv_deltaA + tbp_lv_deltaB + tbp_lv_deltaL + tbp_lv_deltaLBnorm\n",
    "\n",
    "    'log_lesion_area',               # tbp_lv_areaMM2          + 1  np.log\n",
    "    'normalized_lesion_size',        # clin_size_long_diam_mm  / age_approx\n",
    "    'mean_hue_difference',           # tbp_lv_H                + tbp_lv_Hext    / 2\n",
    "    'std_dev_contrast',              # tbp_lv_deltaA **2 + tbp_lv_deltaB **2 + tbp_lv_deltaL **2   / 3  np.sqrt\n",
    "    'color_shape_composite_index',   # tbp_lv_color_std_mean   + bp_lv_area_perim_ratio + tbp_lv_symm_2axis   / 3\n",
    "    'lesion_orientation_3d',         # tbp_lv_y                , tbp_lv_x  np.arctan2\n",
    "    'overall_color_difference',      # tbp_lv_deltaA           + tbp_lv_deltaB + tbp_lv_deltaL   / 3\n",
    "\n",
    "    'symmetry_perimeter_interaction',# tbp_lv_symm_2axis       * tbp_lv_perimeterMM\n",
    "    'comprehensive_lesion_index',    # tbp_lv_area_perim_ratio + tbp_lv_eccentricity + bp_lv_norm_color + tbp_lv_symm_2axis   / 4\n",
    "    'color_variance_ratio',          # tbp_lv_color_std_mean   / tbp_lv_stdLExt\n",
    "    'border_color_interaction',      # tbp_lv_norm_border      * tbp_lv_norm_color\n",
    "    'border_color_interaction_2',\n",
    "    'size_color_contrast_ratio',     # clin_size_long_diam_mm  / tbp_lv_deltaLBnorm\n",
    "    'age_normalized_nevi_confidence',# tbp_lv_nevi_confidence  / age_approx\n",
    "    'age_normalized_nevi_confidence_2',\n",
    "    'color_asymmetry_index',         # tbp_lv_symm_2axis       * tbp_lv_radial_color_std_max\n",
    "\n",
    "    'volume_approximation_3d',       # tbp_lv_areaMM2          * sqrt(tbp_lv_x**2 + tbp_lv_y**2 + tbp_lv_z**2)\n",
    "    'color_range',                   # abs(tbp_lv_L - tbp_lv_Lext) + abs(tbp_lv_A - tbp_lv_Aext) + abs(tbp_lv_B - tbp_lv_Bext)\n",
    "    'shape_color_consistency',       # tbp_lv_eccentricity     * tbp_lv_color_std_mean\n",
    "    'border_length_ratio',           # tbp_lv_perimeterMM      / pi * sqrt(tbp_lv_areaMM2 / pi)\n",
    "    'age_size_symmetry_index',       # age_approx              * clin_size_long_diam_mm * tbp_lv_symm_2axis\n",
    "    'index_age_size_symmetry',       # age_approx              * tbp_lv_areaMM2 * tbp_lv_symm_2axis\n",
    "]"
   ]
  },
  {
   "cell_type": "code",
   "execution_count": 11,
   "id": "af5a6e75",
   "metadata": {
    "execution": {
     "iopub.execute_input": "2024-08-27T01:14:49.171831Z",
     "iopub.status.busy": "2024-08-27T01:14:49.171327Z",
     "iopub.status.idle": "2024-08-27T01:14:49.176667Z",
     "shell.execute_reply": "2024-08-27T01:14:49.175823Z"
    },
    "papermill": {
     "duration": 0.018492,
     "end_time": "2024-08-27T01:14:49.178458",
     "exception": false,
     "start_time": "2024-08-27T01:14:49.159966",
     "status": "completed"
    },
    "tags": []
   },
   "outputs": [],
   "source": [
    "cat_cols = ['sex', 'anatom_site_general', 'tbp_tile_type', 'tbp_lv_location', 'tbp_lv_location_simple', 'attribution']\n",
    "norm_cols = [f'{col}_patient_norm' for col in num_cols + new_num_cols]\n",
    "special_cols = ['count_per_patient']\n",
    "img_cols = ['target_3','target_effnetv1b0', 'target_eva02','target_effnetv1b0_5', 'target_efficientnetv2_s', 'target_efficientnetv2_s_1']\n",
    "feature_cols = num_cols + new_num_cols + cat_cols + norm_cols + special_cols "
   ]
  },
  {
   "cell_type": "code",
   "execution_count": 12,
   "id": "7471dcca",
   "metadata": {
    "execution": {
     "iopub.execute_input": "2024-08-27T01:14:49.200724Z",
     "iopub.status.busy": "2024-08-27T01:14:49.200435Z",
     "iopub.status.idle": "2024-08-27T01:14:49.227283Z",
     "shell.execute_reply": "2024-08-27T01:14:49.226667Z"
    },
    "papermill": {
     "duration": 0.040203,
     "end_time": "2024-08-27T01:14:49.229193",
     "exception": false,
     "start_time": "2024-08-27T01:14:49.188990",
     "status": "completed"
    },
    "tags": []
   },
   "outputs": [],
   "source": [
    "def read_data(path):\n",
    "    return (\n",
    "        pl.read_csv(path)\n",
    "        .with_columns(\n",
    "            pl.col('age_approx').cast(pl.String).replace('NA', np.nan).cast(pl.Float64),\n",
    "        )\n",
    "        .with_columns(\n",
    "            pl.col(pl.Float64).fill_nan(pl.col(pl.Float64).median()), # You may want to impute test data with train\n",
    "        )\n",
    "        .with_columns(\n",
    "            lesion_size_ratio              = pl.col('tbp_lv_minorAxisMM') / pl.col('clin_size_long_diam_mm'),\n",
    "            lesion_shape_index             = pl.col('tbp_lv_areaMM2') / (pl.col('tbp_lv_perimeterMM') ** 2),\n",
    "            hue_contrast                   = (pl.col('tbp_lv_H') - pl.col('tbp_lv_Hext')).abs(),\n",
    "            luminance_contrast             = (pl.col('tbp_lv_L') - pl.col('tbp_lv_Lext')).abs(),\n",
    "            lesion_color_difference        = (pl.col('tbp_lv_deltaA') ** 2 + pl.col('tbp_lv_deltaB') ** 2 + pl.col('tbp_lv_deltaL') ** 2).sqrt(),\n",
    "            border_complexity              = pl.col('tbp_lv_norm_border') + pl.col('tbp_lv_symm_2axis'),\n",
    "            color_uniformity               = pl.col('tbp_lv_color_std_mean') / (pl.col('tbp_lv_radial_color_std_max') + err),\n",
    "        )\n",
    "        .with_columns(\n",
    "            position_distance_3d           = (pl.col('tbp_lv_x') ** 2 + pl.col('tbp_lv_y') ** 2 + pl.col('tbp_lv_z') ** 2).sqrt(),\n",
    "            perimeter_to_area_ratio        = pl.col('tbp_lv_perimeterMM') / pl.col('tbp_lv_areaMM2'),\n",
    "            area_to_perimeter_ratio        = pl.col('tbp_lv_areaMM2') / pl.col('tbp_lv_perimeterMM'),\n",
    "            lesion_visibility_score        = pl.col('tbp_lv_deltaLBnorm') + pl.col('tbp_lv_norm_color'),\n",
    "            combined_anatomical_site       = pl.col('anatom_site_general') + '_' + pl.col('tbp_lv_location'),\n",
    "            symmetry_border_consistency    = pl.col('tbp_lv_symm_2axis') * pl.col('tbp_lv_norm_border'),\n",
    "            consistency_symmetry_border    = pl.col('tbp_lv_symm_2axis') * pl.col('tbp_lv_norm_border') / (pl.col('tbp_lv_symm_2axis') + pl.col('tbp_lv_norm_border')),\n",
    "        )\n",
    "        .with_columns(\n",
    "            color_consistency              = pl.col('tbp_lv_stdL') / pl.col('tbp_lv_Lext'),\n",
    "            consistency_color              = pl.col('tbp_lv_stdL') * pl.col('tbp_lv_Lext') / (pl.col('tbp_lv_stdL') + pl.col('tbp_lv_Lext')),\n",
    "            size_age_interaction           = pl.col('clin_size_long_diam_mm') * pl.col('age_approx'),\n",
    "            hue_color_std_interaction      = pl.col('tbp_lv_H') * pl.col('tbp_lv_color_std_mean'),\n",
    "            lesion_severity_index          = (pl.col('tbp_lv_norm_border') + pl.col('tbp_lv_norm_color') + pl.col('tbp_lv_eccentricity')) / 3,\n",
    "            shape_complexity_index         = pl.col('border_complexity') + pl.col('lesion_shape_index'),\n",
    "            color_contrast_index           = pl.col('tbp_lv_deltaA') + pl.col('tbp_lv_deltaB') + pl.col('tbp_lv_deltaL') + pl.col('tbp_lv_deltaLBnorm'),\n",
    "        )\n",
    "        .with_columns(\n",
    "            log_lesion_area                = (pl.col('tbp_lv_areaMM2') + 1).log(),\n",
    "            normalized_lesion_size         = pl.col('clin_size_long_diam_mm') / pl.col('age_approx'),\n",
    "            mean_hue_difference            = (pl.col('tbp_lv_H') + pl.col('tbp_lv_Hext')) / 2,\n",
    "            std_dev_contrast               = ((pl.col('tbp_lv_deltaA') ** 2 + pl.col('tbp_lv_deltaB') ** 2 + pl.col('tbp_lv_deltaL') ** 2) / 3).sqrt(),\n",
    "            color_shape_composite_index    = (pl.col('tbp_lv_color_std_mean') + pl.col('tbp_lv_area_perim_ratio') + pl.col('tbp_lv_symm_2axis')) / 3,\n",
    "            lesion_orientation_3d          = pl.arctan2(pl.col('tbp_lv_y'), pl.col('tbp_lv_x')),\n",
    "            overall_color_difference       = (pl.col('tbp_lv_deltaA') + pl.col('tbp_lv_deltaB') + pl.col('tbp_lv_deltaL')) / 3,\n",
    "        )\n",
    "        .with_columns(\n",
    "            symmetry_perimeter_interaction = pl.col('tbp_lv_symm_2axis') * pl.col('tbp_lv_perimeterMM'),\n",
    "            comprehensive_lesion_index     = (pl.col('tbp_lv_area_perim_ratio') + pl.col('tbp_lv_eccentricity') + pl.col('tbp_lv_norm_color') + pl.col('tbp_lv_symm_2axis')) / 4,\n",
    "            color_variance_ratio           = pl.col('tbp_lv_color_std_mean') / pl.col('tbp_lv_stdLExt'),\n",
    "            border_color_interaction       = pl.col('tbp_lv_norm_border') * pl.col('tbp_lv_norm_color'),\n",
    "            border_color_interaction_2     = pl.col('tbp_lv_norm_border') * pl.col('tbp_lv_norm_color') / (pl.col('tbp_lv_norm_border') + pl.col('tbp_lv_norm_color')),\n",
    "            size_color_contrast_ratio      = pl.col('clin_size_long_diam_mm') / pl.col('tbp_lv_deltaLBnorm'),\n",
    "            age_normalized_nevi_confidence = pl.col('tbp_lv_nevi_confidence') / pl.col('age_approx'),\n",
    "            age_normalized_nevi_confidence_2 = (pl.col('clin_size_long_diam_mm')**2 + pl.col('age_approx')**2).sqrt(),\n",
    "            color_asymmetry_index          = pl.col('tbp_lv_radial_color_std_max') * pl.col('tbp_lv_symm_2axis'),\n",
    "        )\n",
    "        .with_columns(\n",
    "            volume_approximation_3d        = pl.col('tbp_lv_areaMM2') * (pl.col('tbp_lv_x')**2 + pl.col('tbp_lv_y')**2 + pl.col('tbp_lv_z')**2).sqrt(),\n",
    "            color_range                    = (pl.col('tbp_lv_L') - pl.col('tbp_lv_Lext')).abs() + (pl.col('tbp_lv_A') - pl.col('tbp_lv_Aext')).abs() + (pl.col('tbp_lv_B') - pl.col('tbp_lv_Bext')).abs(),\n",
    "            shape_color_consistency        = pl.col('tbp_lv_eccentricity') * pl.col('tbp_lv_color_std_mean'),\n",
    "            border_length_ratio            = pl.col('tbp_lv_perimeterMM') / (2 * np.pi * (pl.col('tbp_lv_areaMM2') / np.pi).sqrt()),\n",
    "            age_size_symmetry_index        = pl.col('age_approx') * pl.col('clin_size_long_diam_mm') * pl.col('tbp_lv_symm_2axis'),\n",
    "            index_age_size_symmetry        = pl.col('age_approx') * pl.col('tbp_lv_areaMM2') * pl.col('tbp_lv_symm_2axis'),\n",
    "        )\n",
    "        .with_columns(\n",
    "            ((pl.col(col) - pl.col(col).mean().over('patient_id')) / (pl.col(col).std().over('patient_id') + err)).alias(f'{col}_patient_norm') for col in (num_cols + new_num_cols)\n",
    "        )\n",
    "        .with_columns(\n",
    "            count_per_patient = pl.col('isic_id').count().over('patient_id'),\n",
    "        )\n",
    "        .with_columns(\n",
    "            pl.col(cat_cols).cast(pl.Categorical),\n",
    "        )\n",
    "        .to_pandas()\n",
    "        .set_index(id_col)\n",
    "    )"
   ]
  },
  {
   "cell_type": "code",
   "execution_count": 13,
   "id": "0588893e",
   "metadata": {
    "execution": {
     "iopub.execute_input": "2024-08-27T01:14:49.251562Z",
     "iopub.status.busy": "2024-08-27T01:14:49.251293Z",
     "iopub.status.idle": "2024-08-27T01:14:49.268098Z",
     "shell.execute_reply": "2024-08-27T01:14:49.267443Z"
    },
    "papermill": {
     "duration": 0.029988,
     "end_time": "2024-08-27T01:14:49.269936",
     "exception": false,
     "start_time": "2024-08-27T01:14:49.239948",
     "status": "completed"
    },
    "tags": []
   },
   "outputs": [],
   "source": [
    "def preprocess(df_train, df_test):\n",
    "    global cat_cols\n",
    "    \n",
    "    encoder = OneHotEncoder(sparse_output=False, dtype=np.int32, handle_unknown='ignore')\n",
    "    encoder.fit(df_train[cat_cols])\n",
    "    \n",
    "    new_cat_cols = [f'onehot_{i}' for i in range(len(encoder.get_feature_names_out()))]\n",
    "\n",
    "    df_train[new_cat_cols] = encoder.transform(df_train[cat_cols])\n",
    "    df_train[new_cat_cols] = df_train[new_cat_cols].astype('category')\n",
    "\n",
    "    df_test[new_cat_cols] = encoder.transform(df_test[cat_cols])\n",
    "    df_test[new_cat_cols] = df_test[new_cat_cols].astype('category')\n",
    "    \n",
    "    #1. effv1_5\n",
    "    df_ta = pd.read_csv(\"/kaggle/input/dataset-5/train_efficientnetv1_5.csv\")\n",
    "    df_train = df_train.reset_index(drop=True)\n",
    "    df_ta = df_ta.reset_index(drop=True)\n",
    "    df_train[\"target_effnetv1b0_5\"] = df_ta[\"target_effnetv1b0_5\"]\n",
    "    \n",
    "    df_sa = pd.read_csv(\"submission_effnetv1b0_5.csv\")\n",
    "    df_test = df_test.reset_index(drop=True)\n",
    "    df_sa = df_sa.reset_index(drop=True)\n",
    "    df_test[\"target_effnetv1b0_5\"] = df_sa[\"target\"]\n",
    "    \n",
    "    #3. effnetv1b0\n",
    "    df_tc = pd.read_csv(\"/kaggle/input/dataset-5/train_effnetv1b0.csv\")\n",
    "    df_train = df_train.reset_index(drop=True)\n",
    "    df_tc = df_tc.reset_index(drop=True)\n",
    "    df_tc = df_tc[[\"target_effnetv1b0\"]]\n",
    "    df_train[\"target_effnetv1b0\"] = df_tc[\"target_effnetv1b0\"]\n",
    "    \n",
    "    df_sc = pd.read_csv(\"submission_effnetv1b0.csv\")\n",
    "    df_test = df_test.reset_index(drop=True)\n",
    "    df_sc = df_sc.reset_index(drop=True)\n",
    "    df_test[\"target_effnetv1b0\"] = df_sc[\"target\"]\n",
    "    \n",
    "    #2. effnetv2_s\n",
    "    df_tb = pd.read_csv(\"/kaggle/input/dataset-5/train_efficientnetv2_s.csv\")\n",
    "    df_train = df_train.reset_index(drop=True)\n",
    "    df_tb = df_tb.reset_index(drop=True)\n",
    "    df_train[\"target_efficientnetv2_s\"] = df_tb[\"target_efficientnetv2_s\"]\n",
    "    \n",
    "    df_sb = pd.read_csv(\"submission_efficientnetv2_s.csv\")\n",
    "    df_test = df_test.reset_index(drop=True)\n",
    "    df_sb = df_sb.reset_index(drop=True)\n",
    "    df_test[\"target_efficientnetv2_s\"] = df_sb[\"target\"]\n",
    "    \n",
    "    #6. effnetv2_s_1\n",
    "    df_tbb = pd.read_csv(\"/kaggle/input/dataset-5/train_efficientnetv2_s_1.csv\")\n",
    "    df_train = df_train.reset_index(drop=True)\n",
    "    df_tbb = df_tbb.reset_index(drop=True)\n",
    "    df_train['target_efficientnetv2_s_1'] = df_tbb['target_efficientnetv2_s_1']\n",
    "    \n",
    "    df_sbb = pd.read_csv(\"submission_efficientnetv2_s_1.csv\")\n",
    "    df_test = df_test.reset_index(drop=True)\n",
    "    df_sbb = df_sbb.reset_index(drop=True)\n",
    "    df_test [\"target_efficientnetv2_s_1\"] = df_sbb['target']\n",
    "    \n",
    "    #4. image3\n",
    "    df_te = pd.read_csv(\"/kaggle/input/dataset-5/train_image3.csv\")\n",
    "    df_train = df_train.reset_index(drop=True)\n",
    "    df_te = df_te.reset_index(drop=True)\n",
    "    df_te = df_te[[\"pred\"]]\n",
    "    df_train[\"target_3\"] = df_te[\"pred\"]\n",
    "    \n",
    "    df_se = pd.read_csv(\"submission_image3.csv\")\n",
    "    df_test = df_test.reset_index(drop=True)\n",
    "    df_se = df_se.reset_index(drop=True)\n",
    "    df_test[\"target_3\"] = df_se[\"target\"]\n",
    "    \n",
    "    #5. eva02\n",
    "    df_td = pd.read_csv(\"/kaggle/input/dataset-5/train_eva02.csv\")\n",
    "    df_train = df_train.reset_index(drop=True)\n",
    "    df_td = df_td.reset_index(drop=True)\n",
    "    df_td = df_td[[\"target_eva02\"]]\n",
    "    df_train[\"target_eva02\"] = df_td[\"target_eva02\"]\n",
    "    \n",
    "    df_sd = pd.read_csv(\"submission_eva02.csv\")\n",
    "    df_test = df_test.reset_index(drop=True)\n",
    "    df_sd = df_sd.reset_index(drop=True)\n",
    "    df_test[\"target_eva02\"] = df_sd[\"target\"]\n",
    "\n",
    "\n",
    "    for col in cat_cols:\n",
    "        feature_cols.remove(col)\n",
    "\n",
    "    feature_cols.extend(new_cat_cols)\n",
    "    cat_cols = new_cat_cols\n",
    "    \n",
    "    return df_train, df_test"
   ]
  },
  {
   "cell_type": "code",
   "execution_count": 14,
   "id": "df69e70c",
   "metadata": {
    "execution": {
     "iopub.execute_input": "2024-08-27T01:14:49.292370Z",
     "iopub.status.busy": "2024-08-27T01:14:49.291717Z",
     "iopub.status.idle": "2024-08-27T01:14:49.297509Z",
     "shell.execute_reply": "2024-08-27T01:14:49.296686Z"
    },
    "papermill": {
     "duration": 0.018911,
     "end_time": "2024-08-27T01:14:49.299382",
     "exception": false,
     "start_time": "2024-08-27T01:14:49.280471",
     "status": "completed"
    },
    "tags": []
   },
   "outputs": [],
   "source": [
    "def custom_metric(estimator, X, y_true):\n",
    "    y_hat = estimator.predict_proba(X)[:, 1]\n",
    "    min_tpr = 0.80\n",
    "    max_fpr = abs(1 - min_tpr)\n",
    "    \n",
    "    v_gt = abs(y_true - 1)\n",
    "    v_pred = np.array([1.0 - x for x in y_hat])\n",
    "    \n",
    "    partial_auc_scaled = roc_auc_score(v_gt, v_pred, max_fpr=max_fpr)\n",
    "    partial_auc = 0.5 * max_fpr**2 + (max_fpr - 0.5 * max_fpr**2) / (1.0 - 0.5) * (partial_auc_scaled - 0.5)\n",
    "    \n",
    "    return partial_auc"
   ]
  },
  {
   "cell_type": "code",
   "execution_count": 15,
   "id": "c56a5357",
   "metadata": {
    "execution": {
     "iopub.execute_input": "2024-08-27T01:14:49.321485Z",
     "iopub.status.busy": "2024-08-27T01:14:49.321199Z",
     "iopub.status.idle": "2024-08-27T01:15:32.905542Z",
     "shell.execute_reply": "2024-08-27T01:15:32.904710Z"
    },
    "papermill": {
     "duration": 43.597966,
     "end_time": "2024-08-27T01:15:32.907922",
     "exception": false,
     "start_time": "2024-08-27T01:14:49.309956",
     "status": "completed"
    },
    "tags": []
   },
   "outputs": [],
   "source": [
    "df_train = read_data(train_path)\n",
    "df_test = read_data(test_path)\n",
    "df_sub = pd.read_csv(sub_path, index_col=id_col)\n",
    "\n",
    "df_train, df_test = preprocess(df_train, df_test)"
   ]
  },
  {
   "cell_type": "markdown",
   "id": "f6202839",
   "metadata": {
    "papermill": {
     "duration": 0.010661,
     "end_time": "2024-08-27T01:15:32.929759",
     "exception": false,
     "start_time": "2024-08-27T01:15:32.919098",
     "status": "completed"
    },
    "tags": []
   },
   "source": [
    "# MODEL"
   ]
  },
  {
   "cell_type": "code",
   "execution_count": 16,
   "id": "66af11e5",
   "metadata": {
    "execution": {
     "iopub.execute_input": "2024-08-27T01:15:32.953573Z",
     "iopub.status.busy": "2024-08-27T01:15:32.952815Z",
     "iopub.status.idle": "2024-08-27T01:15:36.905952Z",
     "shell.execute_reply": "2024-08-27T01:15:36.905101Z"
    },
    "papermill": {
     "duration": 3.967782,
     "end_time": "2024-08-27T01:15:36.908374",
     "exception": false,
     "start_time": "2024-08-27T01:15:32.940592",
     "status": "completed"
    },
    "tags": []
   },
   "outputs": [],
   "source": [
    "import lightgbm as lgb\n",
    "import catboost as cb\n",
    "import xgboost as xgb\n",
    "\n",
    "from imblearn.pipeline import Pipeline\n",
    "\n",
    "from imblearn.under_sampling import RandomUnderSampler\n",
    "from imblearn.pipeline import Pipeline\n",
    "from imblearn.over_sampling import SMOTE, RandomOverSampler\n",
    "\n",
    "from sklearn.model_selection import StratifiedGroupKFold\n",
    "from sklearn.model_selection import cross_val_score\n",
    "from sklearn.ensemble import VotingClassifier\n"
   ]
  },
  {
   "cell_type": "code",
   "execution_count": 17,
   "id": "4c8e5654",
   "metadata": {
    "execution": {
     "iopub.execute_input": "2024-08-27T01:15:36.932217Z",
     "iopub.status.busy": "2024-08-27T01:15:36.931334Z",
     "iopub.status.idle": "2024-08-27T01:15:37.142370Z",
     "shell.execute_reply": "2024-08-27T01:15:37.141560Z"
    },
    "papermill": {
     "duration": 0.225165,
     "end_time": "2024-08-27T01:15:37.144755",
     "exception": false,
     "start_time": "2024-08-27T01:15:36.919590",
     "status": "completed"
    },
    "tags": []
   },
   "outputs": [],
   "source": [
    "# least_important_features = ['onehot_19', 'onehot_18', 'onehot_38', 'onehot_39', 'onehot_16', 'onehot_14', 'onehot_6','onehot_7', 'onehot_2', 'onehot_3', 'onehot_0', 'onehot_35', 'onehot_37', 'onehot_31', 'onehot_27', 'onehot_29', 'onehot_28', 'onehot_24', 'onehot_20', 'onehot_26', 'onehot_23', 'onehot_17']\n",
    "least_important_features = ['onehot_32', 'onehot_6', 'onehot_33', 'onehot_30', 'onehot_26', 'onehot_22', 'onehot_36', 'onehot_4']\n",
    "\n",
    "df_train.drop(columns = least_important_features,inplace = True)\n",
    "for feature in least_important_features:\n",
    "    cat_cols.remove(feature)\n",
    "    feature_cols.remove(feature)"
   ]
  },
  {
   "cell_type": "code",
   "execution_count": 18,
   "id": "ccba049a",
   "metadata": {
    "execution": {
     "iopub.execute_input": "2024-08-27T01:15:37.168691Z",
     "iopub.status.busy": "2024-08-27T01:15:37.167988Z",
     "iopub.status.idle": "2024-08-27T01:15:37.172404Z",
     "shell.execute_reply": "2024-08-27T01:15:37.171518Z"
    },
    "papermill": {
     "duration": 0.018487,
     "end_time": "2024-08-27T01:15:37.174345",
     "exception": false,
     "start_time": "2024-08-27T01:15:37.155858",
     "status": "completed"
    },
    "tags": []
   },
   "outputs": [],
   "source": [
    "a = feature_cols.copy()\n",
    "feature_cols_without_image_cols = a\n",
    "feature_cols_with_image = feature_cols_without_image_cols + img_cols"
   ]
  },
  {
   "cell_type": "code",
   "execution_count": 19,
   "id": "5cc36e3f",
   "metadata": {
    "execution": {
     "iopub.execute_input": "2024-08-27T01:15:37.197011Z",
     "iopub.status.busy": "2024-08-27T01:15:37.196709Z",
     "iopub.status.idle": "2024-08-27T01:15:37.202370Z",
     "shell.execute_reply": "2024-08-27T01:15:37.201551Z"
    },
    "papermill": {
     "duration": 0.019257,
     "end_time": "2024-08-27T01:15:37.204312",
     "exception": false,
     "start_time": "2024-08-27T01:15:37.185055",
     "status": "completed"
    },
    "tags": []
   },
   "outputs": [],
   "source": [
    "from sklearn.base import BaseEstimator, TransformerMixin\n",
    "import copy\n",
    "\n",
    "# feature_cols_without_image_cols = copy.copy(feature_cols)\n",
    "# feature_cols += img_cols\n",
    "\n",
    "class SelectColumns(BaseEstimator, TransformerMixin):\n",
    "    def __init__(self, columns):\n",
    "        self.columns = columns\n",
    "    def fit(self, X, y=None):\n",
    "        return self\n",
    "    def transform(self, X):\n",
    "        return X[self.columns]"
   ]
  },
  {
   "cell_type": "code",
   "execution_count": 20,
   "id": "f7ca60c6",
   "metadata": {
    "execution": {
     "iopub.execute_input": "2024-08-27T01:15:37.226686Z",
     "iopub.status.busy": "2024-08-27T01:15:37.226383Z",
     "iopub.status.idle": "2024-08-27T01:15:37.233236Z",
     "shell.execute_reply": "2024-08-27T01:15:37.232392Z"
    },
    "papermill": {
     "duration": 0.020149,
     "end_time": "2024-08-27T01:15:37.235163",
     "exception": false,
     "start_time": "2024-08-27T01:15:37.215014",
     "status": "completed"
    },
    "tags": []
   },
   "outputs": [],
   "source": [
    "lgb_params = {\n",
    "    'objective':        'binary',\n",
    "    'verbosity':        -1,\n",
    "    'n_iter':           200,\n",
    "    'boosting_type':    'gbdt',\n",
    "    'random_state':     seed,\n",
    "    'lambda_l1':        0.08758718919397321, \n",
    "    'lambda_l2':        0.0039689175176025465, \n",
    "    'learning_rate':    0.03231007103195577, \n",
    "    'max_depth':        4, \n",
    "    'num_leaves':       103, \n",
    "    'colsample_bytree': 0.8329551585827726, \n",
    "    'colsample_bynode': 0.4025961355653304, \n",
    "    'bagging_fraction': 0.7738954452473223, \n",
    "    'bagging_freq':     4, \n",
    "    'min_data_in_leaf': 85, \n",
    "    'scale_pos_weight': 2.7984184778875543,\n",
    "}\n",
    "\n",
    "\n",
    "lgb_model = Pipeline([\n",
    "    ('sampler_1', RandomOverSampler(sampling_strategy = over_sampling_ratio, random_state=seed)),\n",
    "    ('sampler_2', RandomUnderSampler(sampling_strategy = under_sampling_ratio, random_state=seed)),\n",
    "    ('filter', SelectColumns(feature_cols_without_image_cols)),\n",
    "    ('classifier', lgb.LGBMClassifier(**lgb_params)),\n",
    "])"
   ]
  },
  {
   "cell_type": "code",
   "execution_count": 21,
   "id": "238779f0",
   "metadata": {
    "execution": {
     "iopub.execute_input": "2024-08-27T01:15:37.258047Z",
     "iopub.status.busy": "2024-08-27T01:15:37.257301Z",
     "iopub.status.idle": "2024-08-27T01:15:37.265697Z",
     "shell.execute_reply": "2024-08-27T01:15:37.264821Z"
    },
    "papermill": {
     "duration": 0.021902,
     "end_time": "2024-08-27T01:15:37.267593",
     "exception": false,
     "start_time": "2024-08-27T01:15:37.245691",
     "status": "completed"
    },
    "tags": []
   },
   "outputs": [],
   "source": [
    "cb_params = {\n",
    "    'loss_function':     'Logloss',\n",
    "    'iterations':        250,\n",
    "    'verbose':           False,\n",
    "    'random_state':      seed,\n",
    "    'max_depth':         7, \n",
    "    'learning_rate':     0.06936242010150652, \n",
    "    'scale_pos_weight':  2.6149345838209532, \n",
    "    'l2_leaf_reg':       6.216113851699493, \n",
    "    'subsample':         0.6249261779711819, \n",
    "    'min_data_in_leaf':  24,\n",
    "    'cat_features':      cat_cols,\n",
    "}\n",
    "\n",
    "\n",
    "cb_model = Pipeline([\n",
    "    ('sampler_1', RandomOverSampler(sampling_strategy= over_sampling_ratio, random_state=seed)),\n",
    "    ('sampler_2', RandomUnderSampler(sampling_strategy = under_sampling_ratio, random_state=seed)),\n",
    "    ('classifier', cb.CatBoostClassifier(**cb_params)),\n",
    "])"
   ]
  },
  {
   "cell_type": "code",
   "execution_count": 22,
   "id": "a059a620",
   "metadata": {
    "execution": {
     "iopub.execute_input": "2024-08-27T01:15:37.289780Z",
     "iopub.status.busy": "2024-08-27T01:15:37.289425Z",
     "iopub.status.idle": "2024-08-27T01:15:37.295597Z",
     "shell.execute_reply": "2024-08-27T01:15:37.294765Z"
    },
    "papermill": {
     "duration": 0.019256,
     "end_time": "2024-08-27T01:15:37.297402",
     "exception": false,
     "start_time": "2024-08-27T01:15:37.278146",
     "status": "completed"
    },
    "tags": []
   },
   "outputs": [],
   "source": [
    "xgb_params = {\n",
    "    'enable_categorical': True,\n",
    "    'tree_method':        'hist',\n",
    "    'random_state':       seed,\n",
    "    'learning_rate':      0.08501257473292347, \n",
    "    'lambda':             8.879624125465703, \n",
    "    'alpha':              0.6779926606782505, \n",
    "    'max_depth':          6, \n",
    "    'subsample':          0.6012681388711075, \n",
    "    'colsample_bytree':   0.8437772277074493, \n",
    "    'colsample_bylevel':  0.5476090898823716, \n",
    "    'colsample_bynode':   0.9928601203635129, \n",
    "    'scale_pos_weight':   3.29440313334688,\n",
    "}\n",
    "\n",
    "xgb_model = Pipeline([\n",
    "    ('sampler_1', RandomOverSampler(sampling_strategy = over_sampling_ratio, random_state=seed)),\n",
    "    ('sampler_2', RandomUnderSampler(sampling_strategy = under_sampling_ratio, random_state=seed)),\n",
    "    ('classifier', xgb.XGBClassifier(**xgb_params)),\n",
    "])"
   ]
  },
  {
   "cell_type": "code",
   "execution_count": 23,
   "id": "e673955d",
   "metadata": {
    "execution": {
     "iopub.execute_input": "2024-08-27T01:15:37.319486Z",
     "iopub.status.busy": "2024-08-27T01:15:37.319221Z",
     "iopub.status.idle": "2024-08-27T01:15:37.323442Z",
     "shell.execute_reply": "2024-08-27T01:15:37.322574Z"
    },
    "papermill": {
     "duration": 0.017428,
     "end_time": "2024-08-27T01:15:37.325376",
     "exception": false,
     "start_time": "2024-08-27T01:15:37.307948",
     "status": "completed"
    },
    "tags": []
   },
   "outputs": [],
   "source": [
    "estimator = VotingClassifier([\n",
    "    ('lgb', lgb_model), ('cb', cb_model), ('xgb', xgb_model)], voting ='soft')"
   ]
  },
  {
   "cell_type": "code",
   "execution_count": 24,
   "id": "bb6a8c11",
   "metadata": {
    "execution": {
     "iopub.execute_input": "2024-08-27T01:15:37.347857Z",
     "iopub.status.busy": "2024-08-27T01:15:37.347560Z",
     "iopub.status.idle": "2024-08-27T01:19:12.907560Z",
     "shell.execute_reply": "2024-08-27T01:19:12.906693Z"
    },
    "papermill": {
     "duration": 215.584438,
     "end_time": "2024-08-27T01:19:12.920606",
     "exception": false,
     "start_time": "2024-08-27T01:15:37.336168",
     "status": "completed"
    },
    "tags": []
   },
   "outputs": [
    {
     "data": {
      "text/plain": [
       "(0.18670025690018704,\n",
       " array([0.18049498, 0.18540964, 0.19358897, 0.18375164, 0.19025606]))"
      ]
     },
     "execution_count": 24,
     "metadata": {},
     "output_type": "execute_result"
    }
   ],
   "source": [
    "X = df_train[feature_cols_with_image]\n",
    "y = df_train[target_col]\n",
    "groups = df_train[group_col]\n",
    "cv = StratifiedGroupKFold(5, shuffle=True, random_state=seed)\n",
    "\n",
    "val_score = cross_val_score(\n",
    "    estimator=estimator, \n",
    "    X=X, y=y, \n",
    "    cv=cv, \n",
    "    groups=groups,\n",
    "    scoring=custom_metric,\n",
    ")\n",
    "\n",
    "np.mean(val_score), val_score\n"
   ]
  },
  {
   "cell_type": "markdown",
   "id": "dfa8cb34",
   "metadata": {
    "papermill": {
     "duration": 0.010568,
     "end_time": "2024-08-27T01:19:12.941917",
     "exception": false,
     "start_time": "2024-08-27T01:19:12.931349",
     "status": "completed"
    },
    "tags": []
   },
   "source": [
    "# TRAINING"
   ]
  },
  {
   "cell_type": "code",
   "execution_count": 25,
   "id": "a18f4655",
   "metadata": {
    "execution": {
     "iopub.execute_input": "2024-08-27T01:19:12.964688Z",
     "iopub.status.busy": "2024-08-27T01:19:12.964363Z",
     "iopub.status.idle": "2024-08-27T01:20:02.583358Z",
     "shell.execute_reply": "2024-08-27T01:20:02.582416Z"
    },
    "papermill": {
     "duration": 49.644766,
     "end_time": "2024-08-27T01:20:02.597432",
     "exception": false,
     "start_time": "2024-08-27T01:19:12.952666",
     "status": "completed"
    },
    "tags": []
   },
   "outputs": [
    {
     "data": {
      "text/html": [
       "<style>#sk-container-id-1 {color: black;background-color: white;}#sk-container-id-1 pre{padding: 0;}#sk-container-id-1 div.sk-toggleable {background-color: white;}#sk-container-id-1 label.sk-toggleable__label {cursor: pointer;display: block;width: 100%;margin-bottom: 0;padding: 0.3em;box-sizing: border-box;text-align: center;}#sk-container-id-1 label.sk-toggleable__label-arrow:before {content: \"▸\";float: left;margin-right: 0.25em;color: #696969;}#sk-container-id-1 label.sk-toggleable__label-arrow:hover:before {color: black;}#sk-container-id-1 div.sk-estimator:hover label.sk-toggleable__label-arrow:before {color: black;}#sk-container-id-1 div.sk-toggleable__content {max-height: 0;max-width: 0;overflow: hidden;text-align: left;background-color: #f0f8ff;}#sk-container-id-1 div.sk-toggleable__content pre {margin: 0.2em;color: black;border-radius: 0.25em;background-color: #f0f8ff;}#sk-container-id-1 input.sk-toggleable__control:checked~div.sk-toggleable__content {max-height: 200px;max-width: 100%;overflow: auto;}#sk-container-id-1 input.sk-toggleable__control:checked~label.sk-toggleable__label-arrow:before {content: \"▾\";}#sk-container-id-1 div.sk-estimator input.sk-toggleable__control:checked~label.sk-toggleable__label {background-color: #d4ebff;}#sk-container-id-1 div.sk-label input.sk-toggleable__control:checked~label.sk-toggleable__label {background-color: #d4ebff;}#sk-container-id-1 input.sk-hidden--visually {border: 0;clip: rect(1px 1px 1px 1px);clip: rect(1px, 1px, 1px, 1px);height: 1px;margin: -1px;overflow: hidden;padding: 0;position: absolute;width: 1px;}#sk-container-id-1 div.sk-estimator {font-family: monospace;background-color: #f0f8ff;border: 1px dotted black;border-radius: 0.25em;box-sizing: border-box;margin-bottom: 0.5em;}#sk-container-id-1 div.sk-estimator:hover {background-color: #d4ebff;}#sk-container-id-1 div.sk-parallel-item::after {content: \"\";width: 100%;border-bottom: 1px solid gray;flex-grow: 1;}#sk-container-id-1 div.sk-label:hover label.sk-toggleable__label {background-color: #d4ebff;}#sk-container-id-1 div.sk-serial::before {content: \"\";position: absolute;border-left: 1px solid gray;box-sizing: border-box;top: 0;bottom: 0;left: 50%;z-index: 0;}#sk-container-id-1 div.sk-serial {display: flex;flex-direction: column;align-items: center;background-color: white;padding-right: 0.2em;padding-left: 0.2em;position: relative;}#sk-container-id-1 div.sk-item {position: relative;z-index: 1;}#sk-container-id-1 div.sk-parallel {display: flex;align-items: stretch;justify-content: center;background-color: white;position: relative;}#sk-container-id-1 div.sk-item::before, #sk-container-id-1 div.sk-parallel-item::before {content: \"\";position: absolute;border-left: 1px solid gray;box-sizing: border-box;top: 0;bottom: 0;left: 50%;z-index: -1;}#sk-container-id-1 div.sk-parallel-item {display: flex;flex-direction: column;z-index: 1;position: relative;background-color: white;}#sk-container-id-1 div.sk-parallel-item:first-child::after {align-self: flex-end;width: 50%;}#sk-container-id-1 div.sk-parallel-item:last-child::after {align-self: flex-start;width: 50%;}#sk-container-id-1 div.sk-parallel-item:only-child::after {width: 0;}#sk-container-id-1 div.sk-dashed-wrapped {border: 1px dashed gray;margin: 0 0.4em 0.5em 0.4em;box-sizing: border-box;padding-bottom: 0.4em;background-color: white;}#sk-container-id-1 div.sk-label label {font-family: monospace;font-weight: bold;display: inline-block;line-height: 1.2em;}#sk-container-id-1 div.sk-label-container {text-align: center;}#sk-container-id-1 div.sk-container {/* jupyter's `normalize.less` sets `[hidden] { display: none; }` but bootstrap.min.css set `[hidden] { display: none !important; }` so we also need the `!important` here to be able to override the default hidden behavior on the sphinx rendered scikit-learn.org. See: https://github.com/scikit-learn/scikit-learn/issues/21755 */display: inline-block !important;position: relative;}#sk-container-id-1 div.sk-text-repr-fallback {display: none;}</style><div id=\"sk-container-id-1\" class=\"sk-top-container\"><div class=\"sk-text-repr-fallback\"><pre>VotingClassifier(estimators=[(&#x27;lgb&#x27;,\n",
       "                              Pipeline(steps=[(&#x27;sampler_1&#x27;,\n",
       "                                               RandomOverSampler(random_state=42,\n",
       "                                                                 sampling_strategy=0.003)),\n",
       "                                              (&#x27;sampler_2&#x27;,\n",
       "                                               RandomUnderSampler(random_state=42,\n",
       "                                                                  sampling_strategy=0.01)),\n",
       "                                              (&#x27;filter&#x27;,\n",
       "                                               SelectColumns(columns=[&#x27;age_approx&#x27;,\n",
       "                                                                      &#x27;clin_size_long_diam_mm&#x27;,\n",
       "                                                                      &#x27;tbp_lv_A&#x27;,\n",
       "                                                                      &#x27;tbp_lv_Aext&#x27;,\n",
       "                                                                      &#x27;tbp_lv_B&#x27;,\n",
       "                                                                      &#x27;tbp_lv_Bext&#x27;,\n",
       "                                                                      &#x27;tbp_lv_C&#x27;,\n",
       "                                                                      &#x27;tbp_lv_Cext&#x27;,\n",
       "                                                                      &#x27;tbp_l...\n",
       "                                                             importance_type=None,\n",
       "                                                             interaction_constraints=None,\n",
       "                                                             lambda=8.879624125465703,\n",
       "                                                             learning_rate=0.08501257473292347,\n",
       "                                                             max_bin=None,\n",
       "                                                             max_cat_threshold=None,\n",
       "                                                             max_cat_to_onehot=None,\n",
       "                                                             max_delta_step=None,\n",
       "                                                             max_depth=6,\n",
       "                                                             max_leaves=None,\n",
       "                                                             min_child_weight=None,\n",
       "                                                             missing=nan,\n",
       "                                                             monotone_constraints=None,\n",
       "                                                             multi_strategy=None,\n",
       "                                                             n_estimators=None,\n",
       "                                                             n_jobs=None, ...))]))],\n",
       "                 voting=&#x27;soft&#x27;)</pre><b>In a Jupyter environment, please rerun this cell to show the HTML representation or trust the notebook. <br />On GitHub, the HTML representation is unable to render, please try loading this page with nbviewer.org.</b></div><div class=\"sk-container\" hidden><div class=\"sk-item sk-dashed-wrapped\"><div class=\"sk-label-container\"><div class=\"sk-label sk-toggleable\"><input class=\"sk-toggleable__control sk-hidden--visually\" id=\"sk-estimator-id-1\" type=\"checkbox\" ><label for=\"sk-estimator-id-1\" class=\"sk-toggleable__label sk-toggleable__label-arrow\">VotingClassifier</label><div class=\"sk-toggleable__content\"><pre>VotingClassifier(estimators=[(&#x27;lgb&#x27;,\n",
       "                              Pipeline(steps=[(&#x27;sampler_1&#x27;,\n",
       "                                               RandomOverSampler(random_state=42,\n",
       "                                                                 sampling_strategy=0.003)),\n",
       "                                              (&#x27;sampler_2&#x27;,\n",
       "                                               RandomUnderSampler(random_state=42,\n",
       "                                                                  sampling_strategy=0.01)),\n",
       "                                              (&#x27;filter&#x27;,\n",
       "                                               SelectColumns(columns=[&#x27;age_approx&#x27;,\n",
       "                                                                      &#x27;clin_size_long_diam_mm&#x27;,\n",
       "                                                                      &#x27;tbp_lv_A&#x27;,\n",
       "                                                                      &#x27;tbp_lv_Aext&#x27;,\n",
       "                                                                      &#x27;tbp_lv_B&#x27;,\n",
       "                                                                      &#x27;tbp_lv_Bext&#x27;,\n",
       "                                                                      &#x27;tbp_lv_C&#x27;,\n",
       "                                                                      &#x27;tbp_lv_Cext&#x27;,\n",
       "                                                                      &#x27;tbp_l...\n",
       "                                                             importance_type=None,\n",
       "                                                             interaction_constraints=None,\n",
       "                                                             lambda=8.879624125465703,\n",
       "                                                             learning_rate=0.08501257473292347,\n",
       "                                                             max_bin=None,\n",
       "                                                             max_cat_threshold=None,\n",
       "                                                             max_cat_to_onehot=None,\n",
       "                                                             max_delta_step=None,\n",
       "                                                             max_depth=6,\n",
       "                                                             max_leaves=None,\n",
       "                                                             min_child_weight=None,\n",
       "                                                             missing=nan,\n",
       "                                                             monotone_constraints=None,\n",
       "                                                             multi_strategy=None,\n",
       "                                                             n_estimators=None,\n",
       "                                                             n_jobs=None, ...))]))],\n",
       "                 voting=&#x27;soft&#x27;)</pre></div></div></div><div class=\"sk-parallel\"><div class=\"sk-parallel-item\"><div class=\"sk-item\"><div class=\"sk-label-container\"><div class=\"sk-label sk-toggleable\"><label>lgb</label></div></div><div class=\"sk-serial\"><div class=\"sk-item\"><div class=\"sk-serial\"><div class=\"sk-item\"><div class=\"sk-estimator sk-toggleable\"><input class=\"sk-toggleable__control sk-hidden--visually\" id=\"sk-estimator-id-2\" type=\"checkbox\" ><label for=\"sk-estimator-id-2\" class=\"sk-toggleable__label sk-toggleable__label-arrow\">RandomOverSampler</label><div class=\"sk-toggleable__content\"><pre>RandomOverSampler(random_state=42, sampling_strategy=0.003)</pre></div></div></div><div class=\"sk-item\"><div class=\"sk-estimator sk-toggleable\"><input class=\"sk-toggleable__control sk-hidden--visually\" id=\"sk-estimator-id-3\" type=\"checkbox\" ><label for=\"sk-estimator-id-3\" class=\"sk-toggleable__label sk-toggleable__label-arrow\">RandomUnderSampler</label><div class=\"sk-toggleable__content\"><pre>RandomUnderSampler(random_state=42, sampling_strategy=0.01)</pre></div></div></div><div class=\"sk-item\"><div class=\"sk-estimator sk-toggleable\"><input class=\"sk-toggleable__control sk-hidden--visually\" id=\"sk-estimator-id-4\" type=\"checkbox\" ><label for=\"sk-estimator-id-4\" class=\"sk-toggleable__label sk-toggleable__label-arrow\">SelectColumns</label><div class=\"sk-toggleable__content\"><pre>SelectColumns(columns=[&#x27;age_approx&#x27;, &#x27;clin_size_long_diam_mm&#x27;, &#x27;tbp_lv_A&#x27;,\n",
       "                       &#x27;tbp_lv_Aext&#x27;, &#x27;tbp_lv_B&#x27;, &#x27;tbp_lv_Bext&#x27;, &#x27;tbp_lv_C&#x27;,\n",
       "                       &#x27;tbp_lv_Cext&#x27;, &#x27;tbp_lv_H&#x27;, &#x27;tbp_lv_Hext&#x27;, &#x27;tbp_lv_L&#x27;,\n",
       "                       &#x27;tbp_lv_Lext&#x27;, &#x27;tbp_lv_areaMM2&#x27;,\n",
       "                       &#x27;tbp_lv_area_perim_ratio&#x27;, &#x27;tbp_lv_color_std_mean&#x27;,\n",
       "                       &#x27;tbp_lv_deltaA&#x27;, &#x27;tbp_lv_deltaB&#x27;, &#x27;tbp_lv_deltaL&#x27;,\n",
       "                       &#x27;tbp_lv_deltaLB&#x27;, &#x27;tbp_lv_deltaLBnorm&#x27;,\n",
       "                       &#x27;tbp_lv_eccentricity&#x27;, &#x27;tbp_lv_minorAxisMM&#x27;,\n",
       "                       &#x27;tbp_lv_nevi_confidence&#x27;, &#x27;tbp_lv_norm_border&#x27;,\n",
       "                       &#x27;tbp_lv_norm_color&#x27;, &#x27;tbp_lv_perimeterMM&#x27;,\n",
       "                       &#x27;tbp_lv_radial_color_std_max&#x27;, &#x27;tbp_lv_stdL&#x27;,\n",
       "                       &#x27;tbp_lv_stdLExt&#x27;, &#x27;tbp_lv_symm_2axis&#x27;, ...])</pre></div></div></div><div class=\"sk-item\"><div class=\"sk-estimator sk-toggleable\"><input class=\"sk-toggleable__control sk-hidden--visually\" id=\"sk-estimator-id-5\" type=\"checkbox\" ><label for=\"sk-estimator-id-5\" class=\"sk-toggleable__label sk-toggleable__label-arrow\">LGBMClassifier</label><div class=\"sk-toggleable__content\"><pre>LGBMClassifier(bagging_fraction=0.7738954452473223, bagging_freq=4,\n",
       "               colsample_bynode=0.4025961355653304,\n",
       "               colsample_bytree=0.8329551585827726,\n",
       "               lambda_l1=0.08758718919397321, lambda_l2=0.0039689175176025465,\n",
       "               learning_rate=0.03231007103195577, max_depth=4,\n",
       "               min_data_in_leaf=85, n_iter=200, num_leaves=103,\n",
       "               objective=&#x27;binary&#x27;, random_state=42,\n",
       "               scale_pos_weight=2.7984184778875543, verbosity=-1)</pre></div></div></div></div></div></div></div></div><div class=\"sk-parallel-item\"><div class=\"sk-item\"><div class=\"sk-label-container\"><div class=\"sk-label sk-toggleable\"><label>cb</label></div></div><div class=\"sk-serial\"><div class=\"sk-item\"><div class=\"sk-serial\"><div class=\"sk-item\"><div class=\"sk-estimator sk-toggleable\"><input class=\"sk-toggleable__control sk-hidden--visually\" id=\"sk-estimator-id-6\" type=\"checkbox\" ><label for=\"sk-estimator-id-6\" class=\"sk-toggleable__label sk-toggleable__label-arrow\">RandomOverSampler</label><div class=\"sk-toggleable__content\"><pre>RandomOverSampler(random_state=42, sampling_strategy=0.003)</pre></div></div></div><div class=\"sk-item\"><div class=\"sk-estimator sk-toggleable\"><input class=\"sk-toggleable__control sk-hidden--visually\" id=\"sk-estimator-id-7\" type=\"checkbox\" ><label for=\"sk-estimator-id-7\" class=\"sk-toggleable__label sk-toggleable__label-arrow\">RandomUnderSampler</label><div class=\"sk-toggleable__content\"><pre>RandomUnderSampler(random_state=42, sampling_strategy=0.01)</pre></div></div></div><div class=\"sk-item\"><div class=\"sk-estimator sk-toggleable\"><input class=\"sk-toggleable__control sk-hidden--visually\" id=\"sk-estimator-id-8\" type=\"checkbox\" ><label for=\"sk-estimator-id-8\" class=\"sk-toggleable__label sk-toggleable__label-arrow\">CatBoostClassifier</label><div class=\"sk-toggleable__content\"><pre>&lt;catboost.core.CatBoostClassifier object at 0x7bff54953b50&gt;</pre></div></div></div></div></div></div></div></div><div class=\"sk-parallel-item\"><div class=\"sk-item\"><div class=\"sk-label-container\"><div class=\"sk-label sk-toggleable\"><label>xgb</label></div></div><div class=\"sk-serial\"><div class=\"sk-item\"><div class=\"sk-serial\"><div class=\"sk-item\"><div class=\"sk-estimator sk-toggleable\"><input class=\"sk-toggleable__control sk-hidden--visually\" id=\"sk-estimator-id-9\" type=\"checkbox\" ><label for=\"sk-estimator-id-9\" class=\"sk-toggleable__label sk-toggleable__label-arrow\">RandomOverSampler</label><div class=\"sk-toggleable__content\"><pre>RandomOverSampler(random_state=42, sampling_strategy=0.003)</pre></div></div></div><div class=\"sk-item\"><div class=\"sk-estimator sk-toggleable\"><input class=\"sk-toggleable__control sk-hidden--visually\" id=\"sk-estimator-id-10\" type=\"checkbox\" ><label for=\"sk-estimator-id-10\" class=\"sk-toggleable__label sk-toggleable__label-arrow\">RandomUnderSampler</label><div class=\"sk-toggleable__content\"><pre>RandomUnderSampler(random_state=42, sampling_strategy=0.01)</pre></div></div></div><div class=\"sk-item\"><div class=\"sk-estimator sk-toggleable\"><input class=\"sk-toggleable__control sk-hidden--visually\" id=\"sk-estimator-id-11\" type=\"checkbox\" ><label for=\"sk-estimator-id-11\" class=\"sk-toggleable__label sk-toggleable__label-arrow\">XGBClassifier</label><div class=\"sk-toggleable__content\"><pre>XGBClassifier(alpha=0.6779926606782505, base_score=None, booster=None,\n",
       "              callbacks=None, colsample_bylevel=0.5476090898823716,\n",
       "              colsample_bynode=0.9928601203635129,\n",
       "              colsample_bytree=0.8437772277074493, device=None,\n",
       "              early_stopping_rounds=None, enable_categorical=True,\n",
       "              eval_metric=None, feature_types=None, gamma=None,\n",
       "              grow_policy=None, importance_type=None,\n",
       "              interaction_constraints=None, lambda=8.879624125465703,\n",
       "              learning_rate=0.08501257473292347, max_bin=None,\n",
       "              max_cat_threshold=None, max_cat_to_onehot=None,\n",
       "              max_delta_step=None, max_depth=6, max_leaves=None,\n",
       "              min_child_weight=None, missing=nan, monotone_constraints=None,\n",
       "              multi_strategy=None, n_estimators=None, n_jobs=None, ...)</pre></div></div></div></div></div></div></div></div></div></div></div></div>"
      ],
      "text/plain": [
       "VotingClassifier(estimators=[('lgb',\n",
       "                              Pipeline(steps=[('sampler_1',\n",
       "                                               RandomOverSampler(random_state=42,\n",
       "                                                                 sampling_strategy=0.003)),\n",
       "                                              ('sampler_2',\n",
       "                                               RandomUnderSampler(random_state=42,\n",
       "                                                                  sampling_strategy=0.01)),\n",
       "                                              ('filter',\n",
       "                                               SelectColumns(columns=['age_approx',\n",
       "                                                                      'clin_size_long_diam_mm',\n",
       "                                                                      'tbp_lv_A',\n",
       "                                                                      'tbp_lv_Aext',\n",
       "                                                                      'tbp_lv_B',\n",
       "                                                                      'tbp_lv_Bext',\n",
       "                                                                      'tbp_lv_C',\n",
       "                                                                      'tbp_lv_Cext',\n",
       "                                                                      'tbp_l...\n",
       "                                                             importance_type=None,\n",
       "                                                             interaction_constraints=None,\n",
       "                                                             lambda=8.879624125465703,\n",
       "                                                             learning_rate=0.08501257473292347,\n",
       "                                                             max_bin=None,\n",
       "                                                             max_cat_threshold=None,\n",
       "                                                             max_cat_to_onehot=None,\n",
       "                                                             max_delta_step=None,\n",
       "                                                             max_depth=6,\n",
       "                                                             max_leaves=None,\n",
       "                                                             min_child_weight=None,\n",
       "                                                             missing=nan,\n",
       "                                                             monotone_constraints=None,\n",
       "                                                             multi_strategy=None,\n",
       "                                                             n_estimators=None,\n",
       "                                                             n_jobs=None, ...))]))],\n",
       "                 voting='soft')"
      ]
     },
     "execution_count": 25,
     "metadata": {},
     "output_type": "execute_result"
    }
   ],
   "source": [
    "X, y = df_train[feature_cols_with_image], df_train[target_col]\n",
    "\n",
    "estimator.fit(X, y)"
   ]
  },
  {
   "cell_type": "code",
   "execution_count": 26,
   "id": "751c15ee",
   "metadata": {
    "execution": {
     "iopub.execute_input": "2024-08-27T01:20:02.621141Z",
     "iopub.status.busy": "2024-08-27T01:20:02.620821Z",
     "iopub.status.idle": "2024-08-27T01:20:02.759529Z",
     "shell.execute_reply": "2024-08-27T01:20:02.758638Z"
    },
    "papermill": {
     "duration": 0.152887,
     "end_time": "2024-08-27T01:20:02.761621",
     "exception": false,
     "start_time": "2024-08-27T01:20:02.608734",
     "status": "completed"
    },
    "tags": []
   },
   "outputs": [
    {
     "data": {
      "text/html": [
       "<div>\n",
       "<style scoped>\n",
       "    .dataframe tbody tr th:only-of-type {\n",
       "        vertical-align: middle;\n",
       "    }\n",
       "\n",
       "    .dataframe tbody tr th {\n",
       "        vertical-align: top;\n",
       "    }\n",
       "\n",
       "    .dataframe thead th {\n",
       "        text-align: right;\n",
       "    }\n",
       "</style>\n",
       "<table border=\"1\" class=\"dataframe\">\n",
       "  <thead>\n",
       "    <tr style=\"text-align: right;\">\n",
       "      <th></th>\n",
       "      <th>target</th>\n",
       "    </tr>\n",
       "    <tr>\n",
       "      <th>isic_id</th>\n",
       "      <th></th>\n",
       "    </tr>\n",
       "  </thead>\n",
       "  <tbody>\n",
       "    <tr>\n",
       "      <th>ISIC_0015657</th>\n",
       "      <td>0.344401</td>\n",
       "    </tr>\n",
       "    <tr>\n",
       "      <th>ISIC_0015729</th>\n",
       "      <td>0.245863</td>\n",
       "    </tr>\n",
       "    <tr>\n",
       "      <th>ISIC_0015740</th>\n",
       "      <td>0.257669</td>\n",
       "    </tr>\n",
       "  </tbody>\n",
       "</table>\n",
       "</div>"
      ],
      "text/plain": [
       "                target\n",
       "isic_id               \n",
       "ISIC_0015657  0.344401\n",
       "ISIC_0015729  0.245863\n",
       "ISIC_0015740  0.257669"
      ]
     },
     "execution_count": 26,
     "metadata": {},
     "output_type": "execute_result"
    }
   ],
   "source": [
    "df_sub['target'] = estimator.predict_proba(df_test[feature_cols_with_image])[:, 1]\n",
    "\n",
    "df_sub.to_csv('submission.csv')\n",
    "df_sub.head()"
   ]
  },
  {
   "cell_type": "code",
   "execution_count": null,
   "id": "fe187c76",
   "metadata": {
    "papermill": {
     "duration": 0.011131,
     "end_time": "2024-08-27T01:20:02.785488",
     "exception": false,
     "start_time": "2024-08-27T01:20:02.774357",
     "status": "completed"
    },
    "tags": []
   },
   "outputs": [],
   "source": []
  }
 ],
 "metadata": {
  "kaggle": {
   "accelerator": "gpu",
   "dataSources": [
    {
     "databundleVersionId": 9094797,
     "sourceId": 63056,
     "sourceType": "competition"
    },
    {
     "datasetId": 5406640,
     "sourceId": 8982084,
     "sourceType": "datasetVersion"
    },
    {
     "datasetId": 5415918,
     "sourceId": 8991790,
     "sourceType": "datasetVersion"
    },
    {
     "datasetId": 5582385,
     "sourceId": 9244695,
     "sourceType": "datasetVersion"
    },
    {
     "datasetId": 5579812,
     "sourceId": 9254666,
     "sourceType": "datasetVersion"
    },
    {
     "sourceId": 186147615,
     "sourceType": "kernelVersion"
    },
    {
     "sourceId": 186149019,
     "sourceType": "kernelVersion"
    },
    {
     "sourceId": 187730674,
     "sourceType": "kernelVersion"
    },
    {
     "sourceId": 188602899,
     "sourceType": "kernelVersion"
    },
    {
     "sourceId": 188603204,
     "sourceType": "kernelVersion"
    },
    {
     "sourceId": 190801726,
     "sourceType": "kernelVersion"
    },
    {
     "sourceId": 190815443,
     "sourceType": "kernelVersion"
    },
    {
     "sourceId": 190817588,
     "sourceType": "kernelVersion"
    },
    {
     "sourceId": 194206721,
     "sourceType": "kernelVersion"
    },
    {
     "sourceId": 193680431,
     "sourceType": "kernelVersion"
    }
   ],
   "isGpuEnabled": true,
   "isInternetEnabled": false,
   "language": "python",
   "sourceType": "notebook"
  },
  "kernelspec": {
   "display_name": "Python 3",
   "language": "python",
   "name": "python3"
  },
  "language_info": {
   "codemirror_mode": {
    "name": "ipython",
    "version": 3
   },
   "file_extension": ".py",
   "mimetype": "text/x-python",
   "name": "python",
   "nbconvert_exporter": "python",
   "pygments_lexer": "ipython3",
   "version": "3.10.14"
  },
  "papermill": {
   "default_parameters": {},
   "duration": 516.339691,
   "end_time": "2024-08-27T01:20:03.616202",
   "environment_variables": {},
   "exception": null,
   "input_path": "__notebook__.ipynb",
   "output_path": "__notebook__.ipynb",
   "parameters": {},
   "start_time": "2024-08-27T01:11:27.276511",
   "version": "2.6.0"
  }
 },
 "nbformat": 4,
 "nbformat_minor": 5
}
