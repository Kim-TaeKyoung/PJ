{
 "cells": [
  {
   "cell_type": "code",
   "execution_count": 1,
   "id": "b03e9dfb",
   "metadata": {
    "execution": {
     "iopub.execute_input": "2024-12-12T07:59:47.323117Z",
     "iopub.status.busy": "2024-12-12T07:59:47.322424Z",
     "iopub.status.idle": "2024-12-12T08:00:28.715141Z",
     "shell.execute_reply": "2024-12-12T08:00:28.714234Z"
    },
    "papermill": {
     "duration": 41.402125,
     "end_time": "2024-12-12T08:00:28.717788",
     "exception": false,
     "start_time": "2024-12-12T07:59:47.315663",
     "status": "completed"
    },
    "tags": []
   },
   "outputs": [],
   "source": [
    "!pip -q install /kaggle/input/pytorchtabnet/pytorch_tabnet-4.1.0-py3-none-any.whl"
   ]
  },
  {
   "cell_type": "code",
   "execution_count": 2,
   "id": "166bda8e",
   "metadata": {
    "execution": {
     "iopub.execute_input": "2024-12-12T08:00:28.729820Z",
     "iopub.status.busy": "2024-12-12T08:00:28.729543Z",
     "iopub.status.idle": "2024-12-12T08:00:28.733251Z",
     "shell.execute_reply": "2024-12-12T08:00:28.732561Z"
    },
    "papermill": {
     "duration": 0.01208,
     "end_time": "2024-12-12T08:00:28.734940",
     "exception": false,
     "start_time": "2024-12-12T08:00:28.722860",
     "status": "completed"
    },
    "tags": []
   },
   "outputs": [],
   "source": [
    "SEED = 42\n",
    "n_splits = 5"
   ]
  },
  {
   "cell_type": "code",
   "execution_count": 3,
   "id": "b8e63ae6",
   "metadata": {
    "_cell_guid": "b1076dfc-b9ad-4769-8c92-a6c4dae69d19",
    "_uuid": "8f2839f25d086af736a60e9eeb907d3b93b6e0e5",
    "execution": {
     "iopub.execute_input": "2024-12-12T08:00:28.744732Z",
     "iopub.status.busy": "2024-12-12T08:00:28.744448Z",
     "iopub.status.idle": "2024-12-12T08:00:37.046418Z",
     "shell.execute_reply": "2024-12-12T08:00:37.045718Z"
    },
    "papermill": {
     "duration": 8.309117,
     "end_time": "2024-12-12T08:00:37.048452",
     "exception": false,
     "start_time": "2024-12-12T08:00:28.739335",
     "status": "completed"
    },
    "tags": []
   },
   "outputs": [],
   "source": [
    "import os\n",
    "import re\n",
    "import numpy as np\n",
    "import pandas as pd\n",
    "from sklearn.base import clone, BaseEstimator, RegressorMixin\n",
    "from sklearn.metrics import cohen_kappa_score, accuracy_score, mean_squared_error\n",
    "from sklearn.model_selection import StratifiedKFold, train_test_split\n",
    "from sklearn.decomposition import PCA\n",
    "from sklearn.datasets import make_classification\n",
    "from scipy.optimize import minimize\n",
    "from concurrent.futures import ThreadPoolExecutor\n",
    "from tqdm import tqdm\n",
    "\n",
    "from sklearn.preprocessing import LabelEncoder\n",
    "from sklearn.preprocessing import StandardScaler\n",
    "import matplotlib.pyplot as plt\n",
    "import torch\n",
    "import torch.nn as nn\n",
    "import torch.optim as optim\n",
    "from pytorch_tabnet.tab_model import TabNetRegressor\n",
    "from pytorch_tabnet.callbacks import Callback\n",
    "\n",
    "from colorama import Fore, Style\n",
    "from IPython.display import clear_output\n",
    "import warnings\n",
    "from lightgbm import LGBMRegressor\n",
    "from xgboost import XGBRegressor\n",
    "from catboost import CatBoostRegressor\n",
    "from sklearn.ensemble import VotingRegressor, RandomForestRegressor, GradientBoostingRegressor\n",
    "from sklearn.impute import SimpleImputer, KNNImputer\n",
    "from sklearn.pipeline import Pipeline\n",
    "\n",
    "warnings.filterwarnings('ignore')\n",
    "pd.options.display.max_columns = None"
   ]
  },
  {
   "cell_type": "code",
   "execution_count": 4,
   "id": "74751ae1",
   "metadata": {
    "execution": {
     "iopub.execute_input": "2024-12-12T08:00:37.059868Z",
     "iopub.status.busy": "2024-12-12T08:00:37.058861Z",
     "iopub.status.idle": "2024-12-12T08:00:37.065342Z",
     "shell.execute_reply": "2024-12-12T08:00:37.064515Z"
    },
    "papermill": {
     "duration": 0.013527,
     "end_time": "2024-12-12T08:00:37.066867",
     "exception": false,
     "start_time": "2024-12-12T08:00:37.053340",
     "status": "completed"
    },
    "tags": []
   },
   "outputs": [],
   "source": [
    "def process_file(filename, dirname):\n",
    "    df = pd.read_parquet(os.path.join(dirname, filename, 'part-0.parquet'))\n",
    "    df.drop('step', axis=1, inplace=True)\n",
    "    return df.describe().values.reshape(-1), filename.split('=')[1]\n",
    "\n",
    "def load_time_series(dirname) -> pd.DataFrame:\n",
    "    ids = os.listdir(dirname)\n",
    "    \n",
    "    with ThreadPoolExecutor() as executor:\n",
    "        results = list(tqdm(executor.map(lambda fname: process_file(fname, dirname), ids), total=len(ids)))\n",
    "    \n",
    "    stats, indexes = zip(*results)\n",
    "    \n",
    "    df = pd.DataFrame(stats, columns=[f\"stat_{i}\" for i in range(len(stats[0]))])\n",
    "    df['id'] = indexes\n",
    "    return df"
   ]
  },
  {
   "cell_type": "code",
   "execution_count": 5,
   "id": "7cb6ff2f",
   "metadata": {
    "execution": {
     "iopub.execute_input": "2024-12-12T08:00:37.077062Z",
     "iopub.status.busy": "2024-12-12T08:00:37.076430Z",
     "iopub.status.idle": "2024-12-12T08:00:37.080326Z",
     "shell.execute_reply": "2024-12-12T08:00:37.079709Z"
    },
    "papermill": {
     "duration": 0.010633,
     "end_time": "2024-12-12T08:00:37.081954",
     "exception": false,
     "start_time": "2024-12-12T08:00:37.071321",
     "status": "completed"
    },
    "tags": []
   },
   "outputs": [],
   "source": [
    "def numeric(df):\n",
    "    return df.select_dtypes(include = np.number).columns\n",
    "\n",
    "def categoric(df):\n",
    "    return df.select_dtypes(exclude = np.number).columns"
   ]
  },
  {
   "cell_type": "code",
   "execution_count": 6,
   "id": "0543a3ff",
   "metadata": {
    "execution": {
     "iopub.execute_input": "2024-12-12T08:00:37.091876Z",
     "iopub.status.busy": "2024-12-12T08:00:37.091374Z",
     "iopub.status.idle": "2024-12-12T08:00:37.097274Z",
     "shell.execute_reply": "2024-12-12T08:00:37.096661Z"
    },
    "papermill": {
     "duration": 0.012525,
     "end_time": "2024-12-12T08:00:37.098852",
     "exception": false,
     "start_time": "2024-12-12T08:00:37.086327",
     "status": "completed"
    },
    "tags": []
   },
   "outputs": [],
   "source": [
    "def fe(df):\n",
    "    # season_cols = [col for col in df.columns if 'Season' in col]\n",
    "    # df = df.drop(season_cols, axis=1) \n",
    "    df['BMI_Age'] = df['Physical-BMI'] * df['Basic_Demos-Age']\n",
    "    df['Internet_Hours_Age'] = df['PreInt_EduHx-computerinternet_hoursday'] * df['Basic_Demos-Age']\n",
    "    df['BMI_Internet_Hours'] = df['Physical-BMI'] * df['PreInt_EduHx-computerinternet_hoursday']\n",
    "    df['BFP_BMI'] = df['BIA-BIA_Fat'] / df['BIA-BIA_BMI']\n",
    "    df['FFMI_BFP'] = df['BIA-BIA_FFMI'] / df['BIA-BIA_Fat']\n",
    "    df['FMI_BFP'] = df['BIA-BIA_FMI'] / df['BIA-BIA_Fat']\n",
    "    df['LST_TBW'] = df['BIA-BIA_LST'] / df['BIA-BIA_TBW']\n",
    "    df['BFP_BMR'] = df['BIA-BIA_Fat'] * df['BIA-BIA_BMR']\n",
    "    df['BFP_DEE'] = df['BIA-BIA_Fat'] * df['BIA-BIA_DEE']\n",
    "    df['BMR_Weight'] = df['BIA-BIA_BMR'] / df['Physical-Weight']\n",
    "    df['DEE_Weight'] = df['BIA-BIA_DEE'] / df['Physical-Weight']\n",
    "    df['SMM_Height'] = df['BIA-BIA_SMM'] / df['Physical-Height']\n",
    "    df['Muscle_to_Fat'] = df['BIA-BIA_SMM'] / df['BIA-BIA_FMI']\n",
    "    df['Hydration_Status'] = df['BIA-BIA_TBW'] / df['Physical-Weight']\n",
    "    df['ICW_TBW'] = df['BIA-BIA_ICW'] / df['BIA-BIA_TBW']\n",
    "    df['BMI_PHR'] = df['Physical-BMI'] * df['Physical-HeartRate']\n",
    "    \n",
    "    return df"
   ]
  },
  {
   "cell_type": "code",
   "execution_count": 7,
   "id": "606b06ad",
   "metadata": {
    "execution": {
     "iopub.execute_input": "2024-12-12T08:00:37.108289Z",
     "iopub.status.busy": "2024-12-12T08:00:37.108070Z",
     "iopub.status.idle": "2024-12-12T08:01:49.666064Z",
     "shell.execute_reply": "2024-12-12T08:01:49.665035Z"
    },
    "papermill": {
     "duration": 72.564597,
     "end_time": "2024-12-12T08:01:49.667795",
     "exception": false,
     "start_time": "2024-12-12T08:00:37.103198",
     "status": "completed"
    },
    "tags": []
   },
   "outputs": [
    {
     "name": "stderr",
     "output_type": "stream",
     "text": [
      "100%|██████████| 996/996 [01:12<00:00, 13.81it/s]\n",
      "100%|██████████| 2/2 [00:00<00:00, 10.36it/s]\n"
     ]
    }
   ],
   "source": [
    "df_train = pd.read_csv('/kaggle/input/child-mind-institute-problematic-internet-use/train.csv')\n",
    "df_test = pd.read_csv('/kaggle/input/child-mind-institute-problematic-internet-use/test.csv')\n",
    "sample = pd.read_csv('/kaggle/input/child-mind-institute-problematic-internet-use/sample_submission.csv')\n",
    "\n",
    "\n",
    "train_ts = load_time_series(\"/kaggle/input/child-mind-institute-problematic-internet-use/series_train.parquet\")\n",
    "test_ts = load_time_series(\"/kaggle/input/child-mind-institute-problematic-internet-use/series_test.parquet\")\n",
    "\n",
    "time_series_cols = train_ts.columns.tolist()\n",
    "time_series_cols.remove(\"id\")"
   ]
  },
  {
   "cell_type": "code",
   "execution_count": 8,
   "id": "346173e7",
   "metadata": {
    "execution": {
     "iopub.execute_input": "2024-12-12T08:01:49.705470Z",
     "iopub.status.busy": "2024-12-12T08:01:49.705204Z",
     "iopub.status.idle": "2024-12-12T08:01:49.733969Z",
     "shell.execute_reply": "2024-12-12T08:01:49.733216Z"
    },
    "papermill": {
     "duration": 0.049576,
     "end_time": "2024-12-12T08:01:49.736070",
     "exception": false,
     "start_time": "2024-12-12T08:01:49.686494",
     "status": "completed"
    },
    "tags": []
   },
   "outputs": [],
   "source": [
    "train = pd.merge(df_train, train_ts, how=\"left\", on='id')\n",
    "test = pd.merge(df_test, test_ts, how=\"left\", on='id')\n",
    "\n",
    "train = train.drop('id', axis=1)\n",
    "test = test.drop('id', axis=1)"
   ]
  },
  {
   "cell_type": "code",
   "execution_count": 9,
   "id": "8589d118",
   "metadata": {
    "execution": {
     "iopub.execute_input": "2024-12-12T08:01:49.772850Z",
     "iopub.status.busy": "2024-12-12T08:01:49.772604Z",
     "iopub.status.idle": "2024-12-12T08:01:49.790420Z",
     "shell.execute_reply": "2024-12-12T08:01:49.789717Z"
    },
    "papermill": {
     "duration": 0.037572,
     "end_time": "2024-12-12T08:01:49.792188",
     "exception": false,
     "start_time": "2024-12-12T08:01:49.754616",
     "status": "completed"
    },
    "tags": []
   },
   "outputs": [],
   "source": [
    "stat_cols = [f'stat_{i}' for i in range(96)] \n",
    "train['stat_nan_cnt'] = train[stat_cols].isnull().sum(axis=1)\n",
    "\n",
    "cond = train['PCIAT-PCIAT_Total'].isnull()\n",
    "cond1 = train['stat_nan_cnt'] == 96\n",
    "train = train[~(cond & cond1)].reset_index(drop = True)"
   ]
  },
  {
   "cell_type": "code",
   "execution_count": 10,
   "id": "3c747744",
   "metadata": {
    "execution": {
     "iopub.execute_input": "2024-12-12T08:01:49.829955Z",
     "iopub.status.busy": "2024-12-12T08:01:49.829658Z",
     "iopub.status.idle": "2024-12-12T08:01:49.847577Z",
     "shell.execute_reply": "2024-12-12T08:01:49.846819Z"
    },
    "papermill": {
     "duration": 0.038004,
     "end_time": "2024-12-12T08:01:49.849168",
     "exception": false,
     "start_time": "2024-12-12T08:01:49.811164",
     "status": "completed"
    },
    "tags": []
   },
   "outputs": [],
   "source": [
    "train = fe(train)\n",
    "test = fe(test)"
   ]
  },
  {
   "cell_type": "code",
   "execution_count": 11,
   "id": "af238d18",
   "metadata": {
    "execution": {
     "iopub.execute_input": "2024-12-12T08:01:49.888327Z",
     "iopub.status.busy": "2024-12-12T08:01:49.887793Z",
     "iopub.status.idle": "2024-12-12T08:01:49.894730Z",
     "shell.execute_reply": "2024-12-12T08:01:49.893942Z"
    },
    "papermill": {
     "duration": 0.029398,
     "end_time": "2024-12-12T08:01:49.896464",
     "exception": false,
     "start_time": "2024-12-12T08:01:49.867066",
     "status": "completed"
    },
    "tags": []
   },
   "outputs": [],
   "source": [
    "featuresCols = ['Basic_Demos-Enroll_Season', 'Basic_Demos-Age', 'Basic_Demos-Sex',\n",
    "                'CGAS-Season', 'CGAS-CGAS_Score', 'Physical-Season', 'Physical-BMI',\n",
    "                'Physical-Height', 'Physical-Weight', 'Physical-Waist_Circumference',\n",
    "                'Physical-Diastolic_BP', 'Physical-HeartRate', 'Physical-Systolic_BP',\n",
    "                'Fitness_Endurance-Season', 'Fitness_Endurance-Max_Stage',\n",
    "                'Fitness_Endurance-Time_Mins', 'Fitness_Endurance-Time_Sec',\n",
    "                'FGC-Season', 'FGC-FGC_CU', 'FGC-FGC_CU_Zone', 'FGC-FGC_GSND',\n",
    "                'FGC-FGC_GSND_Zone', 'FGC-FGC_GSD', 'FGC-FGC_GSD_Zone', 'FGC-FGC_PU',\n",
    "                'FGC-FGC_PU_Zone', 'FGC-FGC_SRL', 'FGC-FGC_SRL_Zone', 'FGC-FGC_SRR',\n",
    "                'FGC-FGC_SRR_Zone', 'FGC-FGC_TL', 'FGC-FGC_TL_Zone', 'BIA-Season',\n",
    "                'BIA-BIA_Activity_Level_num', 'BIA-BIA_BMC', 'BIA-BIA_BMI',\n",
    "                'BIA-BIA_BMR', 'BIA-BIA_DEE', 'BIA-BIA_ECW', 'BIA-BIA_FFM',\n",
    "                'BIA-BIA_FFMI', 'BIA-BIA_FMI', 'BIA-BIA_Fat', 'BIA-BIA_Frame_num',\n",
    "                'BIA-BIA_ICW', 'BIA-BIA_LDM', 'BIA-BIA_LST', 'BIA-BIA_SMM',\n",
    "                'BIA-BIA_TBW', 'PAQ_A-Season', 'PAQ_A-PAQ_A_Total', 'PAQ_C-Season',\n",
    "                'PAQ_C-PAQ_C_Total', 'SDS-Season', 'SDS-SDS_Total_Raw',\n",
    "                'SDS-SDS_Total_T', 'PreInt_EduHx-Season',\n",
    "                'PreInt_EduHx-computerinternet_hoursday', 'sii',\n",
    "                'BMI_Age','Internet_Hours_Age','BMI_Internet_Hours',\n",
    "                'BFP_BMI', 'FFMI_BFP', 'FMI_BFP', 'LST_TBW', 'BFP_BMR', 'BFP_DEE', 'BMR_Weight', 'DEE_Weight',\n",
    "                'SMM_Height', 'Muscle_to_Fat', 'Hydration_Status', 'ICW_TBW', 'BMI_PHR']\n",
    "\n",
    "cat_c = ['Basic_Demos-Enroll_Season', 'CGAS-Season', 'Physical-Season', \n",
    "          'Fitness_Endurance-Season', 'FGC-Season', 'BIA-Season', \n",
    "          'PAQ_A-Season', 'PAQ_C-Season', 'SDS-Season', 'PreInt_EduHx-Season']\n",
    "\n",
    "train_fcols = featuresCols + time_series_cols\n",
    "test_fcols = train_fcols.copy()\n",
    "test_fcols.remove('sii')"
   ]
  },
  {
   "cell_type": "code",
   "execution_count": 12,
   "id": "e447a533",
   "metadata": {
    "execution": {
     "iopub.execute_input": "2024-12-12T08:01:49.932860Z",
     "iopub.status.busy": "2024-12-12T08:01:49.932634Z",
     "iopub.status.idle": "2024-12-12T08:01:49.939267Z",
     "shell.execute_reply": "2024-12-12T08:01:49.938408Z"
    },
    "papermill": {
     "duration": 0.026738,
     "end_time": "2024-12-12T08:01:49.941017",
     "exception": false,
     "start_time": "2024-12-12T08:01:49.914279",
     "status": "completed"
    },
    "tags": []
   },
   "outputs": [],
   "source": [
    "train = train[train_fcols]\n",
    "test = test[test_fcols]"
   ]
  },
  {
   "cell_type": "code",
   "execution_count": 13,
   "id": "7e94f67e",
   "metadata": {
    "execution": {
     "iopub.execute_input": "2024-12-12T08:01:49.976947Z",
     "iopub.status.busy": "2024-12-12T08:01:49.976695Z",
     "iopub.status.idle": "2024-12-12T08:01:50.013137Z",
     "shell.execute_reply": "2024-12-12T08:01:50.012530Z"
    },
    "papermill": {
     "duration": 0.056315,
     "end_time": "2024-12-12T08:01:50.014902",
     "exception": false,
     "start_time": "2024-12-12T08:01:49.958587",
     "status": "completed"
    },
    "tags": []
   },
   "outputs": [],
   "source": [
    "def update(df):\n",
    "    cat_col = categoric(df)\n",
    "    for c in cat_col: \n",
    "        df[c] = df[c].fillna('Missing')\n",
    "        df[c] = df[c].astype('category')\n",
    "    return df\n",
    "\n",
    "train = update(train)\n",
    "test = update(test)\n",
    "\n",
    "cat_col = categoric(train)\n",
    "for col in cat_col:\n",
    "    le = LabelEncoder()\n",
    "    train[col] = le.fit_transform(train[col])\n",
    "    test[col] = le.transform(test[col]) "
   ]
  },
  {
   "cell_type": "code",
   "execution_count": 14,
   "id": "ab620be3",
   "metadata": {
    "execution": {
     "iopub.execute_input": "2024-12-12T08:01:50.051585Z",
     "iopub.status.busy": "2024-12-12T08:01:50.051305Z",
     "iopub.status.idle": "2024-12-12T08:01:50.122449Z",
     "shell.execute_reply": "2024-12-12T08:01:50.121692Z"
    },
    "papermill": {
     "duration": 0.090904,
     "end_time": "2024-12-12T08:01:50.124092",
     "exception": false,
     "start_time": "2024-12-12T08:01:50.033188",
     "status": "completed"
    },
    "tags": []
   },
   "outputs": [],
   "source": [
    "from copy import deepcopy\n",
    "\n",
    "class TabNetWrapper(BaseEstimator, RegressorMixin):\n",
    "    def __init__(self, **kwargs):\n",
    "        self.model = TabNetRegressor(**kwargs)\n",
    "        self.kwargs = kwargs\n",
    "        self.imputer = SimpleImputer(strategy='median')\n",
    "        self.best_model_path = 'best_tabnet_model.pt'\n",
    "        \n",
    "    def fit(self, X, y):\n",
    "        X_imputed = self.imputer.fit_transform(X)\n",
    "            \n",
    "        if hasattr(y, 'values'):\n",
    "            y = y.values\n",
    "\n",
    "        X_train, X_valid, y_train, y_valid = train_test_split(X_imputed, y, test_size=0.2, random_state=SEED)\n",
    "\n",
    "        history = self.model.fit(\n",
    "            X_train = X_train,\n",
    "            y_train = y_train.reshape(-1, 1),\n",
    "            eval_set = [(X_valid, y_valid.reshape(-1, 1))],\n",
    "            eval_name = ['valid'],\n",
    "            eval_metric = ['mse'],\n",
    "            max_epochs = 200,\n",
    "            patience = 20,\n",
    "            batch_size = 1024,\n",
    "            virtual_batch_size = 128,\n",
    "            num_workers = 0,\n",
    "            drop_last = False,\n",
    "            callbacks = [\n",
    "                TabNetPretrainedModelCheckpoint(\n",
    "                    filepath = self.best_model_path,\n",
    "                    monitor = 'valid_mse',\n",
    "                    mode = 'min',\n",
    "                    save_best_only = True,\n",
    "                    verbose = True\n",
    "                )\n",
    "            ]\n",
    "        )\n",
    "\n",
    "        if os.path.exists(self.best_model_path):\n",
    "            self.model.load_model(self.best_model_path)\n",
    "            os.remove(self.best_model_path)\n",
    "\n",
    "        return self\n",
    "\n",
    "    def predict(self, X):\n",
    "        X_imputed = self.imputer.transform(X)\n",
    "        return self.model.predict(X_imputed).flatten()\n",
    "\n",
    "    def __deepcopy__(self, memo):\n",
    "        cls = self.__class__\n",
    "        result = self.__new__(cls)\n",
    "        memo[id(self)] = result\n",
    "        for k, v in self.__dict__.items():\n",
    "            setattr(result, k, deepcopy(v, memo))\n",
    "\n",
    "        return result\n",
    "\n",
    "tab_params = {\n",
    "    'n_d': 64,              # Width of the decision prediction layer\n",
    "    'n_a': 64,              # Width of the attention embedding for each step\n",
    "    'n_steps': 5,           # Number of steps in the architecture\n",
    "    'gamma': 1.5,           # Coefficient for feature selection regularization\n",
    "    'n_independent': 2,     # Number of independent GLU layer in each GLU block\n",
    "    'n_shared': 2,          # Number of shared GLU layer in each GLU block\n",
    "    'lambda_sparse': 1e-4,  # Sparsity regularization\n",
    "    'optimizer_fn': torch.optim.Adam,\n",
    "    'optimizer_params': dict(lr=2e-2, weight_decay=1e-5),\n",
    "    'mask_type': 'entmax',\n",
    "    'scheduler_params': dict(mode=\"min\", patience=10, min_lr=1e-5, factor=0.5),\n",
    "    'scheduler_fn': torch.optim.lr_scheduler.ReduceLROnPlateau,\n",
    "    'verbose': 1,\n",
    "    'device_name': 'cuda' if torch.cuda.is_available() else 'cpu'\n",
    "}\n",
    "\n",
    "class TabNetPretrainedModelCheckpoint(Callback):\n",
    "    def __init__(self, filepath, monitor='val_loss', mode='min', save_best_only=True, verbose=1):\n",
    "        super().__init__()\n",
    "        self.filepath = filepath\n",
    "        self.monitor = monitor\n",
    "        self.mode = mode\n",
    "        self.save_best_only = save_best_only\n",
    "        self.verbose = verbose\n",
    "        self.best = float('inf') if mode == 'min' else -float('inf')\n",
    "        \n",
    "    def on_train_begin(self, logs=None):\n",
    "        self.model = self.trainer\n",
    "        \n",
    "    def on_epoch_end(self, epoch, logs=None):\n",
    "        logs = logs or {}\n",
    "        current = logs.get(self.monitor)\n",
    "        if current is None:\n",
    "            return\n",
    "        \n",
    "        if (self.mode == 'min' and current < self.best) or (self.mode == 'max' and current > self.best):\n",
    "            if self.verbose:\n",
    "                print(f'\\nEpoch {epoch}: {self.monitor} improved from {self.best:.4f} to {current:.4f}')\n",
    "            self.best = current\n",
    "            if self.save_best_only:\n",
    "                self.model.save_model(self.filepath)"
   ]
  },
  {
   "cell_type": "code",
   "execution_count": 15,
   "id": "4252f1c9",
   "metadata": {
    "execution": {
     "iopub.execute_input": "2024-12-12T08:01:50.160097Z",
     "iopub.status.busy": "2024-12-12T08:01:50.159834Z",
     "iopub.status.idle": "2024-12-12T08:01:50.170059Z",
     "shell.execute_reply": "2024-12-12T08:01:50.169339Z"
    },
    "papermill": {
     "duration": 0.030006,
     "end_time": "2024-12-12T08:01:50.171636",
     "exception": false,
     "start_time": "2024-12-12T08:01:50.141630",
     "status": "completed"
    },
    "tags": []
   },
   "outputs": [],
   "source": [
    "def quadratic_weighted_kappa(y_true, y_pred):\n",
    "    return cohen_kappa_score(y_true, y_pred, weights='quadratic')\n",
    "\n",
    "def threshold_Rounder(oof_non_rounded, thresholds):\n",
    "    return np.where(oof_non_rounded < thresholds[0], 0,\n",
    "                    np.where(oof_non_rounded < thresholds[1], 1,\n",
    "                             np.where(oof_non_rounded < thresholds[2], 2, 3)))\n",
    "\n",
    "def evaluate_predictions(thresholds, y_true, oof_non_rounded):\n",
    "    rounded_p = threshold_Rounder(oof_non_rounded, thresholds)\n",
    "    return -quadratic_weighted_kappa(y_true, rounded_p)\n",
    "\n",
    "def TrainML(model_class, test_data):\n",
    "    X = train.drop(['sii'], axis=1)\n",
    "    y = train['sii']\n",
    "\n",
    "    SKF = StratifiedKFold(n_splits=n_splits, shuffle=True, random_state=SEED)\n",
    "    \n",
    "    train_S = []\n",
    "    test_S = []\n",
    "    \n",
    "    oof_non_rounded = np.zeros(len(y), dtype=float) \n",
    "    oof_rounded = np.zeros(len(y), dtype=int) \n",
    "    test_preds = np.zeros((len(test_data), n_splits))\n",
    "\n",
    "    for fold, (train_idx, test_idx) in enumerate(tqdm(SKF.split(X, y), desc=\"Training Folds\", total=n_splits)):\n",
    "        X_train, X_val = X.iloc[train_idx], X.iloc[test_idx]\n",
    "        y_train, y_val = y.iloc[train_idx], y.iloc[test_idx]\n",
    "\n",
    "        model = clone(model_class)\n",
    "        model.fit(X_train, y_train)\n",
    "\n",
    "        y_train_pred = model.predict(X_train)\n",
    "        y_val_pred = model.predict(X_val)\n",
    "\n",
    "        oof_non_rounded[test_idx] = y_val_pred\n",
    "        y_val_pred_rounded = y_val_pred.round(0).astype(int)\n",
    "        oof_rounded[test_idx] = y_val_pred_rounded\n",
    "\n",
    "        train_kappa = quadratic_weighted_kappa(y_train, y_train_pred.round(0).astype(int))\n",
    "        val_kappa = quadratic_weighted_kappa(y_val, y_val_pred_rounded)\n",
    "\n",
    "        train_S.append(train_kappa)\n",
    "        test_S.append(val_kappa)\n",
    "        \n",
    "        test_preds[:, fold] = model.predict(test_data)\n",
    "        \n",
    "        print(f\"Fold {fold+1} - Train QWK: {train_kappa:.4f}, Validation QWK: {val_kappa:.4f}\")\n",
    "        clear_output(wait=True)\n",
    "\n",
    "    print(f\"Mean Train QWK --> {np.mean(train_S):.4f}\")\n",
    "    print(f\"Mean Validation QWK ---> {np.mean(test_S):.4f}\")\n",
    "\n",
    "    KappaOPtimizer = minimize(evaluate_predictions,\n",
    "                              x0=[0.5, 1.5, 2.5], args=(y, oof_non_rounded), \n",
    "                              method='Nelder-Mead')\n",
    "    assert KappaOPtimizer.success, \"Optimization did not converge.\"\n",
    "    \n",
    "    oof_tuned = threshold_Rounder(oof_non_rounded, KappaOPtimizer.x)\n",
    "    tKappa = quadratic_weighted_kappa(y, oof_tuned)\n",
    "\n",
    "    print(f\"----> || Optimized QWK SCORE :: {Fore.CYAN}{Style.BRIGHT} {tKappa:.3f}{Style.RESET_ALL}\")\n",
    "\n",
    "    tpm = test_preds.mean(axis=1)\n",
    "    tp_rounded = threshold_Rounder(tpm, KappaOPtimizer.x)\n",
    "\n",
    "    return tp_rounded"
   ]
  },
  {
   "cell_type": "code",
   "execution_count": 16,
   "id": "a33e59d7",
   "metadata": {
    "execution": {
     "iopub.execute_input": "2024-12-12T08:01:50.207231Z",
     "iopub.status.busy": "2024-12-12T08:01:50.206975Z",
     "iopub.status.idle": "2024-12-12T08:01:50.211724Z",
     "shell.execute_reply": "2024-12-12T08:01:50.210994Z"
    },
    "papermill": {
     "duration": 0.024159,
     "end_time": "2024-12-12T08:01:50.213252",
     "exception": false,
     "start_time": "2024-12-12T08:01:50.189093",
     "status": "completed"
    },
    "tags": []
   },
   "outputs": [],
   "source": [
    "lgb_params = {\n",
    "    'learning_rate': 0.046,\n",
    "    'max_depth': 12,\n",
    "    'num_leaves': 478,\n",
    "    'min_data_in_leaf': 13,\n",
    "    'feature_fraction': 0.893,\n",
    "    'bagging_fraction': 0.784,\n",
    "    'bagging_freq': 4,\n",
    "    'lambda_l1': 10,  # Increased from 6.59\n",
    "    'lambda_l2': 0.01,  # Increased from 2.68e-06\n",
    "    'random_seed' : SEED,\n",
    "}\n",
    "\n",
    "\n",
    "xgb_params = {\n",
    "    'learning_rate': 0.05,\n",
    "    'max_depth': 6,\n",
    "    'n_estimators': 200,\n",
    "    'subsample': 0.8,\n",
    "    'colsample_bytree': 0.8,\n",
    "    'reg_alpha': 1,  # Increased from 0.1\n",
    "    'reg_lambda': 5,  # Increased from 1\n",
    "    'random_state': SEED\n",
    "}\n",
    "\n",
    "\n",
    "cat_params = {\n",
    "    'learning_rate': 0.05,\n",
    "    'depth': 6,\n",
    "    'iterations': 200,\n",
    "    'random_seed': SEED,\n",
    "    'cat_features': cat_c,\n",
    "    'verbose': 0,\n",
    "    'l2_leaf_reg': 10  # Increase this value\n",
    "}\n"
   ]
  },
  {
   "cell_type": "code",
   "execution_count": 17,
   "id": "a45ac283",
   "metadata": {
    "execution": {
     "iopub.execute_input": "2024-12-12T08:01:50.248612Z",
     "iopub.status.busy": "2024-12-12T08:01:50.248347Z",
     "iopub.status.idle": "2024-12-12T08:01:50.258585Z",
     "shell.execute_reply": "2024-12-12T08:01:50.257946Z"
    },
    "papermill": {
     "duration": 0.029718,
     "end_time": "2024-12-12T08:01:50.260165",
     "exception": false,
     "start_time": "2024-12-12T08:01:50.230447",
     "status": "completed"
    },
    "tags": []
   },
   "outputs": [],
   "source": [
    "lgb = LGBMRegressor(**lgb_params, random_state=SEED, verbose=-1, n_estimators=300)\n",
    "xgb = XGBRegressor(**xgb_params)\n",
    "cat = CatBoostRegressor(**cat_params)\n",
    "tab = TabNetWrapper(**tab_params)"
   ]
  },
  {
   "cell_type": "code",
   "execution_count": 18,
   "id": "c14ba9bf",
   "metadata": {
    "execution": {
     "iopub.execute_input": "2024-12-12T08:01:50.296621Z",
     "iopub.status.busy": "2024-12-12T08:01:50.295938Z",
     "iopub.status.idle": "2024-12-12T08:01:50.302127Z",
     "shell.execute_reply": "2024-12-12T08:01:50.301544Z"
    },
    "papermill": {
     "duration": 0.025762,
     "end_time": "2024-12-12T08:01:50.303668",
     "exception": false,
     "start_time": "2024-12-12T08:01:50.277906",
     "status": "completed"
    },
    "tags": []
   },
   "outputs": [],
   "source": [
    "imputer = SimpleImputer(strategy='median')\n",
    "\n",
    "lgb_pipeline = Pipeline(steps=[('imputer', imputer), ('regressor', LGBMRegressor(**lgb_params))])\n",
    "xgb_pipeline = Pipeline(steps=[('imputer', imputer), ('regressor', XGBRegressor(**xgb_params))])\n",
    "cat_pipeline = Pipeline(steps=[('imputer', imputer), ('regressor', CatBoostRegressor(**cat_params))])\n",
    "tab_pipeline = Pipeline(steps=[('imputer', imputer), ('regressor', TabNetWrapper(**tab_params))])"
   ]
  },
  {
   "cell_type": "code",
   "execution_count": 19,
   "id": "efa49318",
   "metadata": {
    "execution": {
     "iopub.execute_input": "2024-12-12T08:01:50.339375Z",
     "iopub.status.busy": "2024-12-12T08:01:50.339135Z",
     "iopub.status.idle": "2024-12-12T08:01:50.345453Z",
     "shell.execute_reply": "2024-12-12T08:01:50.344882Z"
    },
    "papermill": {
     "duration": 0.026116,
     "end_time": "2024-12-12T08:01:50.347057",
     "exception": false,
     "start_time": "2024-12-12T08:01:50.320941",
     "status": "completed"
    },
    "tags": []
   },
   "outputs": [],
   "source": [
    "imputer = SimpleImputer(strategy='median')\n",
    "\n",
    "ensemble = VotingRegressor(estimators=[\n",
    "    ('lgb',    Pipeline(steps=[('imputer', imputer), ('regressor', LGBMRegressor(random_state=SEED))])),\n",
    "    ('xgb',    Pipeline(steps=[('imputer', imputer), ('regressor', XGBRegressor(random_state=SEED))])),\n",
    "    ('cat',    Pipeline(steps=[('imputer', imputer), ('regressor', CatBoostRegressor(random_state=SEED, silent=True))])),\n",
    "    ('rf',     Pipeline(steps=[('imputer', imputer), ('regressor', RandomForestRegressor(random_state=SEED))])),\n",
    "    ('gb',     Pipeline(steps=[('imputer', imputer), ('regressor', GradientBoostingRegressor(random_state=SEED))])),\n",
    "    ('tabnet', Pipeline(steps=[('imputer', imputer), ('regressor', TabNetWrapper(**tab_params))])),\n",
    "])"
   ]
  },
  {
   "cell_type": "code",
   "execution_count": 20,
   "id": "675f0316",
   "metadata": {
    "execution": {
     "iopub.execute_input": "2024-12-12T08:01:50.382690Z",
     "iopub.status.busy": "2024-12-12T08:01:50.382425Z",
     "iopub.status.idle": "2024-12-12T08:03:44.099004Z",
     "shell.execute_reply": "2024-12-12T08:03:44.097869Z"
    },
    "papermill": {
     "duration": 113.736622,
     "end_time": "2024-12-12T08:03:44.100938",
     "exception": false,
     "start_time": "2024-12-12T08:01:50.364316",
     "status": "completed"
    },
    "tags": []
   },
   "outputs": [
    {
     "name": "stderr",
     "output_type": "stream",
     "text": [
      "Training Folds: 100%|██████████| 5/5 [00:50<00:00, 10.10s/it]"
     ]
    },
    {
     "name": "stdout",
     "output_type": "stream",
     "text": [
      "Mean Train QWK --> 0.2370\n",
      "Mean Validation QWK ---> 0.2360\n"
     ]
    },
    {
     "name": "stderr",
     "output_type": "stream",
     "text": [
      "\n"
     ]
    },
    {
     "name": "stdout",
     "output_type": "stream",
     "text": [
      "----> || Optimized QWK SCORE :: \u001b[36m\u001b[1m 0.239\u001b[0m\n"
     ]
    }
   ],
   "source": [
    "sub1 = TrainML(xgb, test)\n",
    "sub2 = TrainML(lgb, test)\n",
    "sub3 = TrainML(cat, test)\n",
    "sub4 = TrainML(tab, test)"
   ]
  },
  {
   "cell_type": "code",
   "execution_count": 21,
   "id": "b540d681",
   "metadata": {
    "execution": {
     "iopub.execute_input": "2024-12-12T08:03:44.141976Z",
     "iopub.status.busy": "2024-12-12T08:03:44.141367Z",
     "iopub.status.idle": "2024-12-12T08:04:42.937458Z",
     "shell.execute_reply": "2024-12-12T08:04:42.936558Z"
    },
    "papermill": {
     "duration": 58.8174,
     "end_time": "2024-12-12T08:04:42.939168",
     "exception": false,
     "start_time": "2024-12-12T08:03:44.121768",
     "status": "completed"
    },
    "tags": []
   },
   "outputs": [
    {
     "name": "stderr",
     "output_type": "stream",
     "text": [
      "Training Folds: 100%|██████████| 5/5 [00:47<00:00,  9.58s/it]"
     ]
    },
    {
     "name": "stdout",
     "output_type": "stream",
     "text": [
      "Mean Train QWK --> 0.2370\n",
      "Mean Validation QWK ---> 0.2360\n"
     ]
    },
    {
     "name": "stderr",
     "output_type": "stream",
     "text": [
      "\n"
     ]
    },
    {
     "name": "stdout",
     "output_type": "stream",
     "text": [
      "----> || Optimized QWK SCORE :: \u001b[36m\u001b[1m 0.239\u001b[0m\n"
     ]
    }
   ],
   "source": [
    "sub5 = TrainML(lgb_pipeline, test)\n",
    "sub6 = TrainML(xgb_pipeline, test)\n",
    "sub7 = TrainML(tab_pipeline, test)"
   ]
  },
  {
   "cell_type": "code",
   "execution_count": 22,
   "id": "c57b5be1",
   "metadata": {
    "execution": {
     "iopub.execute_input": "2024-12-12T08:04:42.979414Z",
     "iopub.status.busy": "2024-12-12T08:04:42.978596Z",
     "iopub.status.idle": "2024-12-12T08:07:54.147971Z",
     "shell.execute_reply": "2024-12-12T08:07:54.147184Z"
    },
    "papermill": {
     "duration": 191.190776,
     "end_time": "2024-12-12T08:07:54.149688",
     "exception": false,
     "start_time": "2024-12-12T08:04:42.958912",
     "status": "completed"
    },
    "tags": []
   },
   "outputs": [
    {
     "name": "stderr",
     "output_type": "stream",
     "text": [
      "Training Folds: 100%|██████████| 5/5 [03:10<00:00, 38.19s/it]"
     ]
    },
    {
     "name": "stdout",
     "output_type": "stream",
     "text": [
      "Mean Train QWK --> 0.8545\n",
      "Mean Validation QWK ---> 0.3553\n"
     ]
    },
    {
     "name": "stderr",
     "output_type": "stream",
     "text": [
      "\n"
     ]
    },
    {
     "name": "stdout",
     "output_type": "stream",
     "text": [
      "----> || Optimized QWK SCORE :: \u001b[36m\u001b[1m 0.445\u001b[0m\n"
     ]
    }
   ],
   "source": [
    "sub8 = TrainML(ensemble, test)"
   ]
  },
  {
   "cell_type": "code",
   "execution_count": 23,
   "id": "35527ac7",
   "metadata": {
    "execution": {
     "iopub.execute_input": "2024-12-12T08:07:54.189045Z",
     "iopub.status.busy": "2024-12-12T08:07:54.188338Z",
     "iopub.status.idle": "2024-12-12T08:07:54.194361Z",
     "shell.execute_reply": "2024-12-12T08:07:54.193531Z"
    },
    "papermill": {
     "duration": 0.026555,
     "end_time": "2024-12-12T08:07:54.195832",
     "exception": false,
     "start_time": "2024-12-12T08:07:54.169277",
     "status": "completed"
    },
    "tags": []
   },
   "outputs": [
    {
     "name": "stdout",
     "output_type": "stream",
     "text": [
      "[2 0 0 1 1 1 0 0 1 1 1 0 1 1 1 2 0 0 0 1]\n",
      "[1 0 0 0 1 1 0 0 2 1 1 0 1 1 2 2 0 0 0 1]\n",
      "[0 0 1 0 0 1 1 0 1 0 0 0 1 0 1 1 0 0 0 0]\n",
      "[1 1 1 1 1 1 1 1 1 1 1 1 1 1 1 1 0 1 1 1]\n",
      "[0 0 0 0 1 1 0 0 2 0 0 1 1 1 2 1 0 0 0 1]\n",
      "[2 0 0 0 1 1 0 0 2 0 0 0 2 1 2 2 0 0 0 1]\n",
      "[1 1 1 1 1 1 1 1 1 1 1 1 1 1 1 1 0 1 1 1]\n",
      "[1 0 0 1 1 1 0 0 2 1 1 0 1 1 1 2 0 0 0 1]\n"
     ]
    }
   ],
   "source": [
    "            #[2, 0, 0, 1, 1, 0, 0, 1, 2, 0, 0, 1, 0, 0, 2, 0, 0, 0, 0, 2]\n",
    "            #[1, 0, 0, 1, 1, 1, 0, 0, 2, 1, 1, 0, 1, 1, 1, 2, 0, 0, 0, 1]\n",
    "print(sub1) \n",
    "print(sub2)\n",
    "print(sub3)\n",
    "print(sub4)\n",
    "print(sub5)\n",
    "print(sub6)\n",
    "print(sub7)\n",
    "print(sub8)"
   ]
  },
  {
   "cell_type": "code",
   "execution_count": 24,
   "id": "a44d4b6c",
   "metadata": {
    "execution": {
     "iopub.execute_input": "2024-12-12T08:07:54.233368Z",
     "iopub.status.busy": "2024-12-12T08:07:54.232856Z",
     "iopub.status.idle": "2024-12-12T08:07:54.245732Z",
     "shell.execute_reply": "2024-12-12T08:07:54.244809Z"
    },
    "papermill": {
     "duration": 0.033468,
     "end_time": "2024-12-12T08:07:54.247381",
     "exception": false,
     "start_time": "2024-12-12T08:07:54.213913",
     "status": "completed"
    },
    "tags": []
   },
   "outputs": [],
   "source": [
    "combined = pd.DataFrame({\n",
    "    'id': sample['id'],\n",
    "    'sii_1': sub1,\n",
    "    'sii_2': sub2,\n",
    "    # 'sii_3': sub3,\n",
    "    # 'sii_4': sub4,\n",
    "    # 'sii_5': sub5,\n",
    "    'sii_6': sub6,\n",
    "    # 'sii_7': sub7,\n",
    "    # 'sii_8': sub8,\n",
    "})\n",
    "\n",
    "def majority_vote(row):\n",
    "    return row.mode()[0]\n",
    "\n",
    "\n",
    "combined['final_sii'] = combined[['sii_1', 'sii_2', 'sii_6']].apply(majority_vote, axis=1)\n",
    "final_submission = combined[['id', 'final_sii']].rename(columns={'final_sii': 'sii'})"
   ]
  },
  {
   "cell_type": "code",
   "execution_count": 25,
   "id": "3105d0b3",
   "metadata": {
    "execution": {
     "iopub.execute_input": "2024-12-12T08:07:54.284928Z",
     "iopub.status.busy": "2024-12-12T08:07:54.284375Z",
     "iopub.status.idle": "2024-12-12T08:07:54.296143Z",
     "shell.execute_reply": "2024-12-12T08:07:54.295222Z"
    },
    "papermill": {
     "duration": 0.032245,
     "end_time": "2024-12-12T08:07:54.297828",
     "exception": false,
     "start_time": "2024-12-12T08:07:54.265583",
     "status": "completed"
    },
    "tags": []
   },
   "outputs": [
    {
     "data": {
      "text/html": [
       "<div>\n",
       "<style scoped>\n",
       "    .dataframe tbody tr th:only-of-type {\n",
       "        vertical-align: middle;\n",
       "    }\n",
       "\n",
       "    .dataframe tbody tr th {\n",
       "        vertical-align: top;\n",
       "    }\n",
       "\n",
       "    .dataframe thead th {\n",
       "        text-align: right;\n",
       "    }\n",
       "</style>\n",
       "<table border=\"1\" class=\"dataframe\">\n",
       "  <thead>\n",
       "    <tr style=\"text-align: right;\">\n",
       "      <th></th>\n",
       "      <th>id</th>\n",
       "      <th>sii</th>\n",
       "    </tr>\n",
       "  </thead>\n",
       "  <tbody>\n",
       "    <tr>\n",
       "      <th>0</th>\n",
       "      <td>00008ff9</td>\n",
       "      <td>2</td>\n",
       "    </tr>\n",
       "    <tr>\n",
       "      <th>1</th>\n",
       "      <td>000fd460</td>\n",
       "      <td>0</td>\n",
       "    </tr>\n",
       "    <tr>\n",
       "      <th>2</th>\n",
       "      <td>00105258</td>\n",
       "      <td>0</td>\n",
       "    </tr>\n",
       "    <tr>\n",
       "      <th>3</th>\n",
       "      <td>00115b9f</td>\n",
       "      <td>0</td>\n",
       "    </tr>\n",
       "    <tr>\n",
       "      <th>4</th>\n",
       "      <td>0016bb22</td>\n",
       "      <td>1</td>\n",
       "    </tr>\n",
       "    <tr>\n",
       "      <th>5</th>\n",
       "      <td>001f3379</td>\n",
       "      <td>1</td>\n",
       "    </tr>\n",
       "    <tr>\n",
       "      <th>6</th>\n",
       "      <td>0038ba98</td>\n",
       "      <td>0</td>\n",
       "    </tr>\n",
       "    <tr>\n",
       "      <th>7</th>\n",
       "      <td>0068a485</td>\n",
       "      <td>0</td>\n",
       "    </tr>\n",
       "    <tr>\n",
       "      <th>8</th>\n",
       "      <td>0069fbed</td>\n",
       "      <td>2</td>\n",
       "    </tr>\n",
       "    <tr>\n",
       "      <th>9</th>\n",
       "      <td>0083e397</td>\n",
       "      <td>1</td>\n",
       "    </tr>\n",
       "    <tr>\n",
       "      <th>10</th>\n",
       "      <td>0087dd65</td>\n",
       "      <td>1</td>\n",
       "    </tr>\n",
       "    <tr>\n",
       "      <th>11</th>\n",
       "      <td>00abe655</td>\n",
       "      <td>0</td>\n",
       "    </tr>\n",
       "    <tr>\n",
       "      <th>12</th>\n",
       "      <td>00ae59c9</td>\n",
       "      <td>1</td>\n",
       "    </tr>\n",
       "    <tr>\n",
       "      <th>13</th>\n",
       "      <td>00af6387</td>\n",
       "      <td>1</td>\n",
       "    </tr>\n",
       "    <tr>\n",
       "      <th>14</th>\n",
       "      <td>00bd4359</td>\n",
       "      <td>2</td>\n",
       "    </tr>\n",
       "    <tr>\n",
       "      <th>15</th>\n",
       "      <td>00c0cd71</td>\n",
       "      <td>2</td>\n",
       "    </tr>\n",
       "    <tr>\n",
       "      <th>16</th>\n",
       "      <td>00d56d4b</td>\n",
       "      <td>0</td>\n",
       "    </tr>\n",
       "    <tr>\n",
       "      <th>17</th>\n",
       "      <td>00d9913d</td>\n",
       "      <td>0</td>\n",
       "    </tr>\n",
       "    <tr>\n",
       "      <th>18</th>\n",
       "      <td>00e6167c</td>\n",
       "      <td>0</td>\n",
       "    </tr>\n",
       "    <tr>\n",
       "      <th>19</th>\n",
       "      <td>00ebc35d</td>\n",
       "      <td>1</td>\n",
       "    </tr>\n",
       "  </tbody>\n",
       "</table>\n",
       "</div>"
      ],
      "text/plain": [
       "          id  sii\n",
       "0   00008ff9    2\n",
       "1   000fd460    0\n",
       "2   00105258    0\n",
       "3   00115b9f    0\n",
       "4   0016bb22    1\n",
       "5   001f3379    1\n",
       "6   0038ba98    0\n",
       "7   0068a485    0\n",
       "8   0069fbed    2\n",
       "9   0083e397    1\n",
       "10  0087dd65    1\n",
       "11  00abe655    0\n",
       "12  00ae59c9    1\n",
       "13  00af6387    1\n",
       "14  00bd4359    2\n",
       "15  00c0cd71    2\n",
       "16  00d56d4b    0\n",
       "17  00d9913d    0\n",
       "18  00e6167c    0\n",
       "19  00ebc35d    1"
      ]
     },
     "execution_count": 25,
     "metadata": {},
     "output_type": "execute_result"
    }
   ],
   "source": [
    "final_submission"
   ]
  },
  {
   "cell_type": "code",
   "execution_count": 26,
   "id": "01c5c98a",
   "metadata": {
    "execution": {
     "iopub.execute_input": "2024-12-12T08:07:54.336081Z",
     "iopub.status.busy": "2024-12-12T08:07:54.335820Z",
     "iopub.status.idle": "2024-12-12T08:07:54.342034Z",
     "shell.execute_reply": "2024-12-12T08:07:54.341420Z"
    },
    "papermill": {
     "duration": 0.027321,
     "end_time": "2024-12-12T08:07:54.343673",
     "exception": false,
     "start_time": "2024-12-12T08:07:54.316352",
     "status": "completed"
    },
    "tags": []
   },
   "outputs": [],
   "source": [
    "final_submission.to_csv('submission.csv', index=False)"
   ]
  },
  {
   "cell_type": "code",
   "execution_count": null,
   "id": "a37d5481",
   "metadata": {
    "papermill": {
     "duration": 0.018011,
     "end_time": "2024-12-12T08:07:54.380712",
     "exception": false,
     "start_time": "2024-12-12T08:07:54.362701",
     "status": "completed"
    },
    "tags": []
   },
   "outputs": [],
   "source": []
  }
 ],
 "metadata": {
  "kaggle": {
   "accelerator": "gpu",
   "dataSources": [
    {
     "databundleVersionId": 9643020,
     "sourceId": 81933,
     "sourceType": "competition"
    },
    {
     "datasetId": 921302,
     "sourceId": 7453542,
     "sourceType": "datasetVersion"
    }
   ],
   "isGpuEnabled": true,
   "isInternetEnabled": false,
   "language": "python",
   "sourceType": "notebook"
  },
  "kernelspec": {
   "display_name": "Python 3",
   "language": "python",
   "name": "python3"
  },
  "language_info": {
   "codemirror_mode": {
    "name": "ipython",
    "version": 3
   },
   "file_extension": ".py",
   "mimetype": "text/x-python",
   "name": "python",
   "nbconvert_exporter": "python",
   "pygments_lexer": "ipython3",
   "version": "3.10.14"
  },
  "papermill": {
   "default_parameters": {},
   "duration": 491.932557,
   "end_time": "2024-12-12T08:07:56.808382",
   "environment_variables": {},
   "exception": null,
   "input_path": "__notebook__.ipynb",
   "output_path": "__notebook__.ipynb",
   "parameters": {},
   "start_time": "2024-12-12T07:59:44.875825",
   "version": "2.6.0"
  }
 },
 "nbformat": 4,
 "nbformat_minor": 5
}
